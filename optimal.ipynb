{
 "cells": [
  {
   "cell_type": "code",
   "execution_count": 1,
   "metadata": {},
   "outputs": [
    {
     "name": "stderr",
     "output_type": "stream",
     "text": [
      "D:\\anaconda\\lib\\site-packages\\numpy\\core\\__init__.py:29: UserWarning: loaded more than 1 DLL from .libs:\n",
      "D:\\anaconda\\lib\\site-packages\\numpy\\.libs\\libopenblas.IPBC74C7KURV7CB2PKT5Z5FNR3SIBV4J.gfortran-win_amd64.dll\n",
      "D:\\anaconda\\lib\\site-packages\\numpy\\.libs\\libopenblas.TXA6YQSD3GCQQC22GEQ54J2UDCXDXHWN.gfortran-win_amd64.dll\n",
      "  stacklevel=1)\n"
     ]
    },
    {
     "name": "stdout",
     "output_type": "stream",
     "text": [
      "... loading data\n"
     ]
    }
   ],
   "source": [
    "import numpy as np \n",
    "from load_data import load_data\n",
    "train, valid, test  = load_data('./mnist.pkl.gz')"
   ]
  },
  {
   "cell_type": "code",
   "execution_count": 2,
   "metadata": {
    "collapsed": true
   },
   "outputs": [],
   "source": [
    "raw_X_train = train[0]\n",
    "raw_y_train = train[1]\n",
    "raw_X_val = valid[0]\n",
    "raw_y_val = valid[1]\n",
    "raw_X_test = test[0]\n",
    "raw_y_test = test[1]"
   ]
  },
  {
   "cell_type": "code",
   "execution_count": 3,
   "metadata": {
    "collapsed": true
   },
   "outputs": [],
   "source": [
    "n_train_samples = raw_X_train.shape[0]\n",
    "n_val_samples = raw_X_val.shape[0]\n",
    "n_test_samples = raw_X_test.shape[0]\n",
    "\n",
    "X_train = raw_X_train.reshape(n_train_samples, 28, 28, 1)\n",
    "X_val = raw_X_val.reshape(n_val_samples, 28, 28, 1)\n",
    "X_test = raw_X_test.reshape(n_test_samples, 28, 28, 1)"
   ]
  },
  {
   "cell_type": "code",
   "execution_count": 4,
   "metadata": {},
   "outputs": [
    {
     "name": "stderr",
     "output_type": "stream",
     "text": [
      "D:\\anaconda\\lib\\site-packages\\h5py\\__init__.py:34: FutureWarning: Conversion of the second argument of issubdtype from `float` to `np.floating` is deprecated. In future, it will be treated as `np.float64 == np.dtype(float).type`.\n",
      "  from ._conv import register_converters as _register_converters\n",
      "Using TensorFlow backend.\n"
     ]
    }
   ],
   "source": [
    "from keras import utils\n",
    "Y_train = utils.to_categorical(raw_y_train, num_classes=10)\n",
    "Y_val = utils.to_categorical(raw_y_val, num_classes=10)\n",
    "Y_test = utils.to_categorical(raw_y_test, num_classes=10)"
   ]
  },
  {
   "cell_type": "code",
   "execution_count": 5,
   "metadata": {
    "collapsed": true
   },
   "outputs": [],
   "source": [
    "from keras import Model\n",
    "from keras import Input\n",
    "from keras.layers import Conv2D\n",
    "from keras.layers import MaxPooling2D\n",
    "from keras.layers import Activation\n",
    "from keras.layers import Flatten\n",
    "from keras.layers import Dense\n",
    "def mnist_model():\n",
    "    X_input = Input(shape=(28, 28, 1), name='input')\n",
    "    \n",
    "    X = Conv2D(6, (5, 5), padding='same', kernel_initializer='he_normal', bias_initializer='zeros')(X_input)\n",
    "    X =Activation('relu')(X)\n",
    "    X= MaxPooling2D(pool_size=(2, 2), strides=(2, 2))(X)\n",
    "    \n",
    "    X = Conv2D(16,(5, 5), padding=\"same\", kernel_initializer='he_normal', bias_initializer='zeros')(X)\n",
    "    X = Activation(\"relu\")(X)\n",
    "    X = MaxPooling2D(pool_size=(2, 2), strides=(2, 2))(X)\n",
    "    \n",
    "    X = Flatten()(X)\n",
    "    X = Dense(120, kernel_initializer='he_normal', bias_initializer='zeros')(X)\n",
    "    X = Activation(\"relu\")(X)\n",
    "    \n",
    "    X = Dense(84, kernel_initializer='he_normal', bias_initializer='zeros')(X)\n",
    "    X = Activation(\"relu\")(X)\n",
    "    \n",
    "    X = Dense(10)(X)\n",
    "    X_output = Activation(\"softmax\")(X)\n",
    "    \n",
    "    model = Model(inputs = X_input, outputs = X_output)\n",
    "    \n",
    "    return model"
   ]
  },
  {
   "cell_type": "code",
   "execution_count": 6,
   "metadata": {},
   "outputs": [
    {
     "name": "stdout",
     "output_type": "stream",
     "text": [
      "WARNING:tensorflow:From D:\\anaconda\\lib\\site-packages\\tensorflow\\python\\framework\\op_def_library.py:263: colocate_with (from tensorflow.python.framework.ops) is deprecated and will be removed in a future version.\n",
      "Instructions for updating:\n",
      "Colocations handled automatically by placer.\n"
     ]
    }
   ],
   "source": [
    "model = mnist_model()"
   ]
  },
  {
   "cell_type": "code",
   "execution_count": 8,
   "metadata": {
    "collapsed": true
   },
   "outputs": [],
   "source": [
    "from keras.optimizers import RMSprop\n",
    "model.compile(loss=\"categorical_crossentropy\", optimizer=RMSprop(lr=0.001), metrics=[\"accuracy\"])"
   ]
  },
  {
   "cell_type": "code",
   "execution_count": 9,
   "metadata": {
    "collapsed": true
   },
   "outputs": [],
   "source": [
    "from keras.callbacks import CSVLogger\n",
    "csv_logger = CSVLogger('final_training.log')"
   ]
  },
  {
   "cell_type": "code",
   "execution_count": 10,
   "metadata": {},
   "outputs": [
    {
     "name": "stdout",
     "output_type": "stream",
     "text": [
      "WARNING:tensorflow:From D:\\anaconda\\lib\\site-packages\\tensorflow\\python\\ops\\math_ops.py:3066: to_int32 (from tensorflow.python.ops.math_ops) is deprecated and will be removed in a future version.\n",
      "Instructions for updating:\n",
      "Use tf.cast instead.\n",
      "Epoch 1/20\n",
      "50000/50000 [==============================] - 48s 952us/step - loss: 0.2608 - acc: 0.9190\n",
      "Epoch 2/20\n",
      "50000/50000 [==============================] - 50s 1ms/step - loss: 0.0698 - acc: 0.9777\n",
      "Epoch 3/20\n",
      "50000/50000 [==============================] - 53s 1ms/step - loss: 0.0459 - acc: 0.9863\n",
      "Epoch 4/20\n",
      "50000/50000 [==============================] - 54s 1ms/step - loss: 0.0334 - acc: 0.9894\n",
      "Epoch 5/20\n",
      "50000/50000 [==============================] - 55s 1ms/step - loss: 0.0259 - acc: 0.9913\n",
      "Epoch 6/20\n",
      "50000/50000 [==============================] - 52s 1ms/step - loss: 0.0210 - acc: 0.9931\n",
      "Epoch 7/20\n",
      "50000/50000 [==============================] - 53s 1ms/step - loss: 0.0167 - acc: 0.9946\n",
      "Epoch 8/20\n",
      "50000/50000 [==============================] - 54s 1ms/step - loss: 0.0133 - acc: 0.9956\n",
      "Epoch 9/20\n",
      "50000/50000 [==============================] - 52s 1ms/step - loss: 0.0107 - acc: 0.9967\n",
      "Epoch 10/20\n",
      "50000/50000 [==============================] - 53s 1ms/step - loss: 0.0091 - acc: 0.9970\n",
      "Epoch 11/20\n",
      "50000/50000 [==============================] - 52s 1ms/step - loss: 0.0072 - acc: 0.9977\n",
      "Epoch 12/20\n",
      "50000/50000 [==============================] - 51s 1ms/step - loss: 0.0062 - acc: 0.9980\n",
      "Epoch 13/20\n",
      "50000/50000 [==============================] - 49s 984us/step - loss: 0.0051 - acc: 0.9981\n",
      "Epoch 14/20\n",
      "50000/50000 [==============================] - 50s 991us/step - loss: 0.0050 - acc: 0.9984\n",
      "Epoch 15/20\n",
      "50000/50000 [==============================] - 49s 983us/step - loss: 0.0043 - acc: 0.9986\n",
      "Epoch 16/20\n",
      "50000/50000 [==============================] - 50s 999us/step - loss: 0.0043 - acc: 0.9985\n",
      "Epoch 17/20\n",
      "50000/50000 [==============================] - ETA: 0s - loss: 0.0034 - acc: 0.998 - 49s 982us/step - loss: 0.0034 - acc: 0.9987\n",
      "Epoch 18/20\n",
      "50000/50000 [==============================] - 49s 988us/step - loss: 0.0043 - acc: 0.9985\n",
      "Epoch 19/20\n",
      "50000/50000 [==============================] - 48s 968us/step - loss: 0.0028 - acc: 0.9990\n",
      "Epoch 20/20\n",
      "50000/50000 [==============================] - 48s 956us/step - loss: 0.0031 - acc: 0.9990\n"
     ]
    }
   ],
   "source": [
    "history = model.fit(X_train, Y_train, batch_size=128, epochs=20, verbose=1, callbacks=[csv_logger])"
   ]
  },
  {
   "cell_type": "code",
   "execution_count": 12,
   "metadata": {},
   "outputs": [
    {
     "name": "stdout",
     "output_type": "stream",
     "text": [
      "10000/10000 [==============================] - 6s 578us/step\n",
      "accuracy: 98.88%\n"
     ]
    }
   ],
   "source": [
    "(loss, accuracy) = model.evaluate(X_val, Y_val, batch_size=128, verbose=1)\n",
    "print(\"accuracy: {:.2f}%\".format(accuracy * 100))"
   ]
  },
  {
   "cell_type": "code",
   "execution_count": 13,
   "metadata": {},
   "outputs": [
    {
     "name": "stdout",
     "output_type": "stream",
     "text": [
      "10000/10000 [==============================] - 6s 592us/step\n",
      "accuracy: 98.93%\n"
     ]
    }
   ],
   "source": [
    "(loss, accuracy) = model.evaluate(X_test, Y_test, batch_size=128, verbose=1)\n",
    "print(\"accuracy: {:.2f}%\".format(accuracy * 100))"
   ]
  },
  {
   "cell_type": "code",
   "execution_count": 14,
   "metadata": {},
   "outputs": [
    {
     "name": "stdout",
     "output_type": "stream",
     "text": [
      "    epoch      acc      loss\n",
      "0       0  0.91898  0.260826\n",
      "1       1  0.97774  0.069832\n",
      "2       2  0.98628  0.045900\n",
      "3       3  0.98944  0.033356\n",
      "4       4  0.99128  0.025924\n",
      "5       5  0.99314  0.021035\n",
      "6       6  0.99462  0.016718\n",
      "7       7  0.99560  0.013288\n",
      "8       8  0.99666  0.010656\n",
      "9       9  0.99698  0.009071\n",
      "10     10  0.99768  0.007170\n",
      "11     11  0.99796  0.006175\n",
      "12     12  0.99808  0.005131\n",
      "13     13  0.99838  0.005022\n",
      "14     14  0.99864  0.004267\n",
      "15     15  0.99848  0.004271\n",
      "16     16  0.99866  0.003414\n",
      "17     17  0.99850  0.004315\n",
      "18     18  0.99904  0.002786\n",
      "19     19  0.99900  0.003073\n"
     ]
    }
   ],
   "source": [
    "import pandas as pd\n",
    "df = pd.read_csv('final_training.log')\n",
    "print(df)"
   ]
  },
  {
   "cell_type": "code",
   "execution_count": null,
   "metadata": {
    "collapsed": true
   },
   "outputs": [],
   "source": []
  }
 ],
 "metadata": {
  "kernelspec": {
   "display_name": "Python 3",
   "language": "python",
   "name": "python3"
  },
  "language_info": {
   "codemirror_mode": {
    "name": "ipython",
    "version": 3
   },
   "file_extension": ".py",
   "mimetype": "text/x-python",
   "name": "python",
   "nbconvert_exporter": "python",
   "pygments_lexer": "ipython3",
   "version": "3.6.3"
  }
 },
 "nbformat": 4,
 "nbformat_minor": 2
}
