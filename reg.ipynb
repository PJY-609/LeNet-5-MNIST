{
 "cells": [
  {
   "cell_type": "code",
   "execution_count": 1,
   "metadata": {},
   "outputs": [
    {
     "name": "stderr",
     "output_type": "stream",
     "text": [
      "D:\\anaconda\\lib\\site-packages\\numpy\\core\\__init__.py:29: UserWarning: loaded more than 1 DLL from .libs:\n",
      "D:\\anaconda\\lib\\site-packages\\numpy\\.libs\\libopenblas.IPBC74C7KURV7CB2PKT5Z5FNR3SIBV4J.gfortran-win_amd64.dll\n",
      "D:\\anaconda\\lib\\site-packages\\numpy\\.libs\\libopenblas.TXA6YQSD3GCQQC22GEQ54J2UDCXDXHWN.gfortran-win_amd64.dll\n",
      "  stacklevel=1)\n"
     ]
    },
    {
     "name": "stdout",
     "output_type": "stream",
     "text": [
      "... loading data\n"
     ]
    }
   ],
   "source": [
    "import numpy as np \n",
    "from load_data import load_data\n",
    "train, valid, test  = load_data('./mnist.pkl.gz')"
   ]
  },
  {
   "cell_type": "code",
   "execution_count": 2,
   "metadata": {
    "collapsed": true
   },
   "outputs": [],
   "source": [
    "raw_X_train = train[0]\n",
    "raw_y_train = train[1]\n",
    "raw_X_val = valid[0]\n",
    "raw_y_val = valid[1]\n",
    "raw_X_test = test[0]\n",
    "raw_y_test = test[1]"
   ]
  },
  {
   "cell_type": "code",
   "execution_count": 3,
   "metadata": {
    "collapsed": true
   },
   "outputs": [],
   "source": [
    "n_train_samples = raw_X_train.shape[0]\n",
    "n_val_samples = raw_X_val.shape[0]\n",
    "n_test_samples = raw_X_test.shape[0]\n",
    "\n",
    "X_train = raw_X_train.reshape(n_train_samples, 28, 28, 1)\n",
    "X_val = raw_X_val.reshape(n_val_samples, 28, 28, 1)\n",
    "X_test = raw_X_test.reshape(n_test_samples, 28, 28, 1)"
   ]
  },
  {
   "cell_type": "code",
   "execution_count": 4,
   "metadata": {},
   "outputs": [
    {
     "name": "stderr",
     "output_type": "stream",
     "text": [
      "D:\\anaconda\\lib\\site-packages\\h5py\\__init__.py:34: FutureWarning: Conversion of the second argument of issubdtype from `float` to `np.floating` is deprecated. In future, it will be treated as `np.float64 == np.dtype(float).type`.\n",
      "  from ._conv import register_converters as _register_converters\n",
      "Using TensorFlow backend.\n"
     ]
    }
   ],
   "source": [
    "from keras import utils\n",
    "Y_train = utils.to_categorical(raw_y_train, num_classes=10)\n",
    "Y_val = utils.to_categorical(raw_y_val, num_classes=10)\n",
    "Y_test = utils.to_categorical(raw_y_test, num_classes=10)"
   ]
  },
  {
   "cell_type": "code",
   "execution_count": 5,
   "metadata": {
    "collapsed": true
   },
   "outputs": [],
   "source": [
    "from keras import Model\n",
    "from keras import Input\n",
    "from keras.layers import Conv2D\n",
    "from keras.layers import MaxPooling2D\n",
    "from keras.layers import Activation\n",
    "from keras.layers import Flatten\n",
    "from keras.layers import Dense\n",
    "from keras.layers import Dropout\n",
    "from keras.regularizers import l2\n",
    "def mnist_model():\n",
    "    X_input = Input(shape=(28, 28, 1), name='input')\n",
    "    \n",
    "    X = Conv2D(6, (5, 5), padding='same', kernel_initializer='he_normal', bias_initializer='zeros')(X_input)\n",
    "    X =Activation('relu')(X)\n",
    "    X= MaxPooling2D(pool_size=(2, 2), strides=(2, 2))(X)\n",
    "    \n",
    "    X = Conv2D(16,(5, 5), padding=\"same\", kernel_initializer='he_normal', bias_initializer='zeros')(X)\n",
    "    X = Activation(\"relu\")(X)\n",
    "    X = MaxPooling2D(pool_size=(2, 2), strides=(2, 2))(X)\n",
    "    \n",
    "    X = Flatten()(X)\n",
    "    X = Dense(120, kernel_initializer='he_normal', kernel_regularizer=l2(0.01))(X)\n",
    "    X = Activation(\"relu\")(X)\n",
    "    \n",
    "    X = Dense(84, kernel_initializer='he_normal', kernel_regularizer=l2(0.01))(X)\n",
    "    X = Activation(\"relu\")(X)\n",
    "    \n",
    "    X = Dense(10)(X)\n",
    "    X_output = Activation(\"softmax\")(X)\n",
    "    \n",
    "    model = Model(inputs = X_input, outputs = X_output)\n",
    "    \n",
    "    return model"
   ]
  },
  {
   "cell_type": "code",
   "execution_count": 6,
   "metadata": {},
   "outputs": [
    {
     "name": "stdout",
     "output_type": "stream",
     "text": [
      "WARNING:tensorflow:From D:\\anaconda\\lib\\site-packages\\tensorflow\\python\\framework\\op_def_library.py:263: colocate_with (from tensorflow.python.framework.ops) is deprecated and will be removed in a future version.\n",
      "Instructions for updating:\n",
      "Colocations handled automatically by placer.\n"
     ]
    }
   ],
   "source": [
    "reg_model = mnist_model()"
   ]
  },
  {
   "cell_type": "code",
   "execution_count": 8,
   "metadata": {},
   "outputs": [],
   "source": [
    "from keras.optimizers import RMSprop\n",
    "reg_model.compile(loss=\"categorical_crossentropy\", optimizer=RMSprop(lr=0.001), metrics=[\"accuracy\"])"
   ]
  },
  {
   "cell_type": "code",
   "execution_count": 9,
   "metadata": {
    "collapsed": true
   },
   "outputs": [],
   "source": [
    "from keras.callbacks import CSVLogger\n",
    "csv_logger = CSVLogger('reg_training.log')"
   ]
  },
  {
   "cell_type": "code",
   "execution_count": 10,
   "metadata": {
    "scrolled": true
   },
   "outputs": [
    {
     "name": "stdout",
     "output_type": "stream",
     "text": [
      "WARNING:tensorflow:From D:\\anaconda\\lib\\site-packages\\tensorflow\\python\\ops\\math_ops.py:3066: to_int32 (from tensorflow.python.ops.math_ops) is deprecated and will be removed in a future version.\n",
      "Instructions for updating:\n",
      "Use tf.cast instead.\n",
      "Train on 50000 samples, validate on 10000 samples\n",
      "Epoch 1/20\n",
      "50000/50000 [==============================] - 65s 1ms/step - loss: 1.5217 - acc: 0.8948 - val_loss: 0.5842 - val_acc: 0.9414\n",
      "Epoch 2/20\n",
      "50000/50000 [==============================] - 63s 1ms/step - loss: 0.3767 - acc: 0.9586 - val_loss: 0.3150 - val_acc: 0.9487\n",
      "Epoch 3/20\n",
      "50000/50000 [==============================] - 67s 1ms/step - loss: 0.2251 - acc: 0.9671 - val_loss: 0.1848 - val_acc: 0.9738\n",
      "Epoch 4/20\n",
      "50000/50000 [==============================] - 69s 1ms/step - loss: 0.1760 - acc: 0.9717 - val_loss: 0.1441 - val_acc: 0.9804\n",
      "Epoch 5/20\n",
      "50000/50000 [==============================] - 77s 2ms/step - loss: 0.1542 - acc: 0.9744 - val_loss: 0.1237 - val_acc: 0.9822\n",
      "Epoch 6/20\n",
      "50000/50000 [==============================] - 78s 2ms/step - loss: 0.1375 - acc: 0.9768 - val_loss: 0.1440 - val_acc: 0.9735\n",
      "Epoch 7/20\n",
      "50000/50000 [==============================] - 67s 1ms/step - loss: 0.1253 - acc: 0.9782 - val_loss: 0.1160 - val_acc: 0.9804\n",
      "Epoch 8/20\n",
      "50000/50000 [==============================] - 76s 2ms/step - loss: 0.1161 - acc: 0.9800 - val_loss: 0.1327 - val_acc: 0.9743\n",
      "Epoch 9/20\n",
      "50000/50000 [==============================] - 70s 1ms/step - loss: 0.1106 - acc: 0.9811 - val_loss: 0.1084 - val_acc: 0.9821\n",
      "Epoch 10/20\n",
      "50000/50000 [==============================] - 74s 1ms/step - loss: 0.1061 - acc: 0.9814 - val_loss: 0.0984 - val_acc: 0.9834\n",
      "Epoch 11/20\n",
      "50000/50000 [==============================] - 80s 2ms/step - loss: 0.1014 - acc: 0.9815 - val_loss: 0.0928 - val_acc: 0.9859\n",
      "Epoch 12/20\n",
      "50000/50000 [==============================] - 82s 2ms/step - loss: 0.0964 - acc: 0.9829 - val_loss: 0.1135 - val_acc: 0.9769\n",
      "Epoch 13/20\n",
      "50000/50000 [==============================] - 85s 2ms/step - loss: 0.0931 - acc: 0.9831 - val_loss: 0.0905 - val_acc: 0.9852\n",
      "Epoch 14/20\n",
      "50000/50000 [==============================] - 85s 2ms/step - loss: 0.0899 - acc: 0.9833 - val_loss: 0.0909 - val_acc: 0.9838\n",
      "Epoch 15/20\n",
      "50000/50000 [==============================] - 69s 1ms/step - loss: 0.0877 - acc: 0.9842 - val_loss: 0.0815 - val_acc: 0.9874\n",
      "Epoch 16/20\n",
      "50000/50000 [==============================] - 76s 2ms/step - loss: 0.0857 - acc: 0.9843 - val_loss: 0.0872 - val_acc: 0.9842\n",
      "Epoch 17/20\n",
      "50000/50000 [==============================] - 89s 2ms/step - loss: 0.0836 - acc: 0.9851 - val_loss: 0.0942 - val_acc: 0.9806\n",
      "Epoch 18/20\n",
      "50000/50000 [==============================] - 84s 2ms/step - loss: 0.0798 - acc: 0.9852 - val_loss: 0.0892 - val_acc: 0.9840\n",
      "Epoch 19/20\n",
      "50000/50000 [==============================] - 80s 2ms/step - loss: 0.0779 - acc: 0.9860 - val_loss: 0.0908 - val_acc: 0.9839\n",
      "Epoch 20/20\n",
      "50000/50000 [==============================] - 88s 2ms/step - loss: 0.0771 - acc: 0.9858 - val_loss: 0.0772 - val_acc: 0.9860\n"
     ]
    }
   ],
   "source": [
    "history = reg_model.fit(X_train, Y_train, validation_data=(X_val, Y_val), batch_size=128, epochs=20, verbose=1, callbacks=[csv_logger])"
   ]
  },
  {
   "cell_type": "code",
   "execution_count": 11,
   "metadata": {},
   "outputs": [
    {
     "name": "stdout",
     "output_type": "stream",
     "text": [
      "10000/10000 [==============================] - 5s 548us/step\n",
      "accuracy: 98.56%\n"
     ]
    }
   ],
   "source": [
    "(loss, accuracy) = reg_model.evaluate(X_test, Y_test, batch_size=128, verbose=1)\n",
    "print(\"accuracy: {:.2f}%\".format(accuracy * 100))"
   ]
  },
  {
   "cell_type": "code",
   "execution_count": 13,
   "metadata": {},
   "outputs": [
    {
     "name": "stdout",
     "output_type": "stream",
     "text": [
      "    epoch      acc      loss  val_acc  val_loss\n",
      "0       0  0.89476  1.521695   0.9414  0.584223\n",
      "1       1  0.95858  0.376704   0.9487  0.315038\n",
      "2       2  0.96706  0.225063   0.9738  0.184838\n",
      "3       3  0.97166  0.176030   0.9804  0.144122\n",
      "4       4  0.97438  0.154226   0.9822  0.123689\n",
      "5       5  0.97678  0.137489   0.9735  0.143979\n",
      "6       6  0.97822  0.125324   0.9804  0.115996\n",
      "7       7  0.98000  0.116093   0.9743  0.132665\n",
      "8       8  0.98112  0.110616   0.9821  0.108403\n",
      "9       9  0.98138  0.106144   0.9834  0.098377\n",
      "10     10  0.98154  0.101413   0.9859  0.092815\n",
      "11     11  0.98294  0.096392   0.9769  0.113464\n",
      "12     12  0.98312  0.093095   0.9852  0.090543\n",
      "13     13  0.98334  0.089871   0.9838  0.090946\n",
      "14     14  0.98420  0.087704   0.9874  0.081504\n",
      "15     15  0.98432  0.085685   0.9842  0.087199\n",
      "16     16  0.98510  0.083649   0.9806  0.094213\n",
      "17     17  0.98518  0.079823   0.9840  0.089219\n",
      "18     18  0.98598  0.077909   0.9839  0.090843\n",
      "19     19  0.98582  0.077061   0.9860  0.077183\n"
     ]
    }
   ],
   "source": [
    "import pandas as pd\n",
    "df = pd.read_csv('reg_training.log')\n",
    "print(df)"
   ]
  },
  {
   "cell_type": "code",
   "execution_count": 12,
   "metadata": {
    "collapsed": true
   },
   "outputs": [],
   "source": [
    "def mnist_model_1():\n",
    "    X_input = Input(shape=(28, 28, 1), name='input')\n",
    "    \n",
    "    X = Conv2D(6, (5, 5), padding='same', kernel_initializer='he_normal', bias_initializer='zeros')(X_input)\n",
    "    X =Activation('relu')(X)\n",
    "    X= MaxPooling2D(pool_size=(2, 2), strides=(2, 2))(X)\n",
    "    \n",
    "    X = Conv2D(16,(5, 5), padding=\"same\", kernel_initializer='he_normal', bias_initializer='zeros')(X)\n",
    "    X = Activation(\"relu\")(X)\n",
    "    X = MaxPooling2D(pool_size=(2, 2), strides=(2, 2))(X)\n",
    "    \n",
    "    X = Flatten()(X)\n",
    "    X = Dense(120, kernel_initializer='he_normal', kernel_regularizer=l2(0.01))(X)\n",
    "    X = Activation(\"relu\")(X)\n",
    "    \n",
    "    X = Dense(84, kernel_initializer='he_normal')(X)\n",
    "    X = Activation(\"relu\")(X)\n",
    "    \n",
    "    X = Dense(10)(X)\n",
    "    X_output = Activation(\"softmax\")(X)\n",
    "    \n",
    "    model = Model(inputs = X_input, outputs = X_output)\n",
    "    \n",
    "    return model"
   ]
  },
  {
   "cell_type": "code",
   "execution_count": 14,
   "metadata": {
    "collapsed": true
   },
   "outputs": [],
   "source": [
    "reg_model_1 = mnist_model_1()"
   ]
  },
  {
   "cell_type": "code",
   "execution_count": 15,
   "metadata": {
    "collapsed": true
   },
   "outputs": [],
   "source": [
    "from keras.optimizers import RMSprop\n",
    "reg_model_1.compile(loss=\"categorical_crossentropy\", optimizer=RMSprop(lr=0.001), metrics=[\"accuracy\"])"
   ]
  },
  {
   "cell_type": "code",
   "execution_count": 16,
   "metadata": {
    "collapsed": true
   },
   "outputs": [],
   "source": [
    "from keras.callbacks import CSVLogger\n",
    "csv_logger = CSVLogger('reg_1_training.log')"
   ]
  },
  {
   "cell_type": "code",
   "execution_count": 17,
   "metadata": {},
   "outputs": [
    {
     "name": "stdout",
     "output_type": "stream",
     "text": [
      "Train on 50000 samples, validate on 10000 samples\n",
      "Epoch 1/20\n",
      "50000/50000 [==============================] - 55s 1ms/step - loss: 0.8321 - acc: 0.9065 - val_loss: 0.2270 - val_acc: 0.9721\n",
      "Epoch 2/20\n",
      "50000/50000 [==============================] - 69s 1ms/step - loss: 0.1879 - acc: 0.9672 - val_loss: 0.1442 - val_acc: 0.9750\n",
      "Epoch 3/20\n",
      "50000/50000 [==============================] - 83s 2ms/step - loss: 0.1346 - acc: 0.9746 - val_loss: 0.1153 - val_acc: 0.9795\n",
      "Epoch 4/20\n",
      "50000/50000 [==============================] - 96s 2ms/step - loss: 0.1160 - acc: 0.9775 - val_loss: 0.1448 - val_acc: 0.9718\n",
      "Epoch 5/20\n",
      "50000/50000 [==============================] - 68s 1ms/step - loss: 0.1070 - acc: 0.9789 - val_loss: 0.1178 - val_acc: 0.9769\n",
      "Epoch 6/20\n",
      "50000/50000 [==============================] - 61s 1ms/step - loss: 0.0980 - acc: 0.9807 - val_loss: 0.0881 - val_acc: 0.9848\n",
      "Epoch 7/20\n",
      "50000/50000 [==============================] - 82s 2ms/step - loss: 0.0921 - acc: 0.9829 - val_loss: 0.0988 - val_acc: 0.9808\n",
      "Epoch 8/20\n",
      "50000/50000 [==============================] - 88s 2ms/step - loss: 0.0856 - acc: 0.9840 - val_loss: 0.0913 - val_acc: 0.9820\n",
      "Epoch 9/20\n",
      "50000/50000 [==============================] - 65s 1ms/step - loss: 0.0817 - acc: 0.9841 - val_loss: 0.0805 - val_acc: 0.9847\n",
      "Epoch 10/20\n",
      "50000/50000 [==============================] - 60s 1ms/step - loss: 0.0770 - acc: 0.9852 - val_loss: 0.0756 - val_acc: 0.9865\n",
      "Epoch 11/20\n",
      "50000/50000 [==============================] - 58s 1ms/step - loss: 0.0751 - acc: 0.9853 - val_loss: 0.0830 - val_acc: 0.9834\n",
      "Epoch 12/20\n",
      "50000/50000 [==============================] - 78s 2ms/step - loss: 0.0700 - acc: 0.9864 - val_loss: 0.0819 - val_acc: 0.9833\n",
      "Epoch 13/20\n",
      "50000/50000 [==============================] - 74s 1ms/step - loss: 0.0680 - acc: 0.9870 - val_loss: 0.0744 - val_acc: 0.9861\n",
      "Epoch 14/20\n",
      "50000/50000 [==============================] - 55s 1ms/step - loss: 0.0658 - acc: 0.9876 - val_loss: 0.0732 - val_acc: 0.9872\n",
      "Epoch 15/20\n",
      "50000/50000 [==============================] - 74s 1ms/step - loss: 0.0635 - acc: 0.9881 - val_loss: 0.0745 - val_acc: 0.9860\n",
      "Epoch 16/20\n",
      "50000/50000 [==============================] - 93s 2ms/step - loss: 0.0609 - acc: 0.9880 - val_loss: 0.0789 - val_acc: 0.9832\n",
      "Epoch 17/20\n",
      "50000/50000 [==============================] - 89s 2ms/step - loss: 0.0594 - acc: 0.9885 - val_loss: 0.0637 - val_acc: 0.9879\n",
      "Epoch 18/20\n",
      "50000/50000 [==============================] - 70s 1ms/step - loss: 0.0582 - acc: 0.9884 - val_loss: 0.0615 - val_acc: 0.9886\n",
      "Epoch 19/20\n",
      "50000/50000 [==============================] - 61s 1ms/step - loss: 0.0558 - acc: 0.9891 - val_loss: 0.0651 - val_acc: 0.9877\n",
      "Epoch 20/20\n",
      "50000/50000 [==============================] - 59s 1ms/step - loss: 0.0553 - acc: 0.9889 - val_loss: 0.0605 - val_acc: 0.9894\n"
     ]
    }
   ],
   "source": [
    "history = reg_model_1.fit(X_train, Y_train, validation_data=(X_val, Y_val), batch_size=128, epochs=20, verbose=1, callbacks=[csv_logger])"
   ]
  },
  {
   "cell_type": "code",
   "execution_count": 19,
   "metadata": {},
   "outputs": [
    {
     "name": "stdout",
     "output_type": "stream",
     "text": [
      "10000/10000 [==============================] - 6s 579us/step\n",
      "accuracy: 98.79%\n"
     ]
    }
   ],
   "source": [
    "(loss, accuracy) = reg_model_1.evaluate(X_test, Y_test, batch_size=128, verbose=1)\n",
    "print(\"accuracy: {:.2f}%\".format(accuracy * 100))"
   ]
  },
  {
   "cell_type": "code",
   "execution_count": 21,
   "metadata": {},
   "outputs": [
    {
     "name": "stdout",
     "output_type": "stream",
     "text": [
      "    epoch      acc      loss  val_acc  val_loss\n",
      "0       0  0.90648  0.832123   0.9721  0.227015\n",
      "1       1  0.96720  0.187934   0.9750  0.144219\n",
      "2       2  0.97464  0.134602   0.9795  0.115265\n",
      "3       3  0.97754  0.116044   0.9718  0.144803\n",
      "4       4  0.97888  0.106974   0.9769  0.117762\n",
      "5       5  0.98074  0.098031   0.9848  0.088149\n",
      "6       6  0.98292  0.092121   0.9808  0.098751\n",
      "7       7  0.98400  0.085564   0.9820  0.091318\n",
      "8       8  0.98410  0.081749   0.9847  0.080528\n",
      "9       9  0.98516  0.076960   0.9865  0.075619\n",
      "10     10  0.98534  0.075101   0.9834  0.083014\n",
      "11     11  0.98636  0.070004   0.9833  0.081864\n",
      "12     12  0.98704  0.068009   0.9861  0.074374\n",
      "13     13  0.98760  0.065831   0.9872  0.073167\n",
      "14     14  0.98808  0.063512   0.9860  0.074517\n",
      "15     15  0.98802  0.060902   0.9832  0.078943\n",
      "16     16  0.98848  0.059388   0.9879  0.063739\n",
      "17     17  0.98840  0.058185   0.9886  0.061531\n",
      "18     18  0.98908  0.055786   0.9877  0.065128\n",
      "19     19  0.98892  0.055252   0.9894  0.060471\n"
     ]
    }
   ],
   "source": [
    "import pandas as pd\n",
    "df = pd.read_csv('reg_1_training.log')\n",
    "print(df)"
   ]
  },
  {
   "cell_type": "code",
   "execution_count": null,
   "metadata": {
    "collapsed": true
   },
   "outputs": [],
   "source": []
  }
 ],
 "metadata": {
  "kernelspec": {
   "display_name": "Python 3",
   "language": "python",
   "name": "python3"
  },
  "language_info": {
   "codemirror_mode": {
    "name": "ipython",
    "version": 3
   },
   "file_extension": ".py",
   "mimetype": "text/x-python",
   "name": "python",
   "nbconvert_exporter": "python",
   "pygments_lexer": "ipython3",
   "version": "3.6.3"
  }
 },
 "nbformat": 4,
 "nbformat_minor": 2
}
