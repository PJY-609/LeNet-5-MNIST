{
 "cells": [
  {
   "cell_type": "code",
   "execution_count": 1,
   "metadata": {},
   "outputs": [
    {
     "name": "stderr",
     "output_type": "stream",
     "text": [
      "D:\\anaconda\\lib\\site-packages\\numpy\\core\\__init__.py:29: UserWarning: loaded more than 1 DLL from .libs:\n",
      "D:\\anaconda\\lib\\site-packages\\numpy\\.libs\\libopenblas.IPBC74C7KURV7CB2PKT5Z5FNR3SIBV4J.gfortran-win_amd64.dll\n",
      "D:\\anaconda\\lib\\site-packages\\numpy\\.libs\\libopenblas.TXA6YQSD3GCQQC22GEQ54J2UDCXDXHWN.gfortran-win_amd64.dll\n",
      "  stacklevel=1)\n"
     ]
    },
    {
     "name": "stdout",
     "output_type": "stream",
     "text": [
      "... loading data\n"
     ]
    }
   ],
   "source": [
    "import numpy as np \n",
    "from load_data import load_data\n",
    "train, valid, test  = load_data('./mnist.pkl.gz')"
   ]
  },
  {
   "cell_type": "code",
   "execution_count": 2,
   "metadata": {
    "collapsed": true
   },
   "outputs": [],
   "source": [
    "raw_X_train = train[0]\n",
    "raw_y_train = train[1]\n",
    "raw_X_val = valid[0]\n",
    "raw_y_val = valid[1]\n",
    "raw_X_test = test[0]\n",
    "raw_y_test = test[1]"
   ]
  },
  {
   "cell_type": "code",
   "execution_count": 3,
   "metadata": {
    "collapsed": true
   },
   "outputs": [],
   "source": [
    "n_train_samples = raw_X_train.shape[0]\n",
    "n_val_samples = raw_X_val.shape[0]\n",
    "n_test_samples = raw_X_test.shape[0]\n",
    "\n",
    "X_train = raw_X_train.reshape(n_train_samples, 28, 28, 1)\n",
    "X_val = raw_X_val.reshape(n_val_samples, 28, 28, 1)\n",
    "X_test = raw_X_test.reshape(n_test_samples, 28, 28, 1)"
   ]
  },
  {
   "cell_type": "code",
   "execution_count": 4,
   "metadata": {},
   "outputs": [
    {
     "name": "stderr",
     "output_type": "stream",
     "text": [
      "D:\\anaconda\\lib\\site-packages\\h5py\\__init__.py:34: FutureWarning: Conversion of the second argument of issubdtype from `float` to `np.floating` is deprecated. In future, it will be treated as `np.float64 == np.dtype(float).type`.\n",
      "  from ._conv import register_converters as _register_converters\n",
      "Using TensorFlow backend.\n"
     ]
    }
   ],
   "source": [
    "from keras import utils\n",
    "Y_train = utils.to_categorical(raw_y_train, num_classes=10)\n",
    "Y_val = utils.to_categorical(raw_y_val, num_classes=10)\n",
    "Y_test = utils.to_categorical(raw_y_test, num_classes=10)"
   ]
  },
  {
   "cell_type": "code",
   "execution_count": 5,
   "metadata": {
    "collapsed": true
   },
   "outputs": [],
   "source": [
    "from keras import Model\n",
    "from keras import Input\n",
    "from keras.layers import Conv2D\n",
    "from keras.layers import MaxPooling2D\n",
    "from keras.layers import Activation\n",
    "from keras.layers import Flatten\n",
    "from keras.layers import Dense\n",
    "from keras.layers import Dropout\n",
    "def mnist_model():\n",
    "    X_input = Input(shape=(28, 28, 1), name='input')\n",
    "    \n",
    "    X = Conv2D(6, (5, 5), padding='same', kernel_initializer='he_normal', bias_initializer='zeros')(X_input)\n",
    "    X =Activation('relu')(X)\n",
    "    X= MaxPooling2D(pool_size=(2, 2), strides=(2, 2))(X)\n",
    "    \n",
    "    X = Conv2D(16,(5, 5), padding=\"same\", kernel_initializer='he_normal', bias_initializer='zeros')(X)\n",
    "    X = Activation(\"relu\")(X)\n",
    "    X = MaxPooling2D(pool_size=(2, 2), strides=(2, 2))(X)\n",
    "    \n",
    "    X = Flatten()(X)\n",
    "    X = Dense(120, kernel_initializer='he_normal', bias_initializer='zeros')(X)\n",
    "    X = Activation(\"relu\")(X)\n",
    "    \n",
    "    X = Dense(84, kernel_initializer='he_normal', bias_initializer='zeros')(X)\n",
    "    X = Activation(\"relu\")(X)\n",
    "    \n",
    "    X = Dense(10)(X)\n",
    "    X_output = Activation(\"softmax\")(X)\n",
    "    \n",
    "    model = Model(inputs = X_input, outputs = X_output)\n",
    "    \n",
    "    return model"
   ]
  },
  {
   "cell_type": "code",
   "execution_count": 8,
   "metadata": {},
   "outputs": [],
   "source": [
    "from keras.preprocessing.image import ImageDataGenerator\n",
    "datagen = ImageDataGenerator(\n",
    "    rotation_range=20,\n",
    "    width_shift_range=0.2,\n",
    "    height_shift_range=0.2\n",
    ")"
   ]
  },
  {
   "cell_type": "code",
   "execution_count": 9,
   "metadata": {
    "collapsed": true
   },
   "outputs": [],
   "source": [
    "datagen.fit(X_train)"
   ]
  },
  {
   "cell_type": "code",
   "execution_count": 10,
   "metadata": {},
   "outputs": [
    {
     "name": "stdout",
     "output_type": "stream",
     "text": [
      "WARNING:tensorflow:From D:\\anaconda\\lib\\site-packages\\tensorflow\\python\\framework\\op_def_library.py:263: colocate_with (from tensorflow.python.framework.ops) is deprecated and will be removed in a future version.\n",
      "Instructions for updating:\n",
      "Colocations handled automatically by placer.\n"
     ]
    }
   ],
   "source": [
    "datagen_model = mnist_model()"
   ]
  },
  {
   "cell_type": "code",
   "execution_count": 11,
   "metadata": {
    "collapsed": true
   },
   "outputs": [],
   "source": [
    "from keras.optimizers import RMSprop\n",
    "datagen_model.compile(loss=\"categorical_crossentropy\", optimizer=RMSprop(lr=0.001), metrics=[\"accuracy\"])"
   ]
  },
  {
   "cell_type": "code",
   "execution_count": 12,
   "metadata": {
    "collapsed": true
   },
   "outputs": [],
   "source": [
    "from keras.callbacks import CSVLogger\n",
    "csv_logger = CSVLogger('datagen_training.log')"
   ]
  },
  {
   "cell_type": "code",
   "execution_count": 17,
   "metadata": {},
   "outputs": [
    {
     "data": {
      "text/plain": [
       "390.625"
      ]
     },
     "execution_count": 17,
     "metadata": {},
     "output_type": "execute_result"
    }
   ],
   "source": [
    "len(X_train)/128"
   ]
  },
  {
   "cell_type": "code",
   "execution_count": 18,
   "metadata": {},
   "outputs": [
    {
     "name": "stdout",
     "output_type": "stream",
     "text": [
      "Epoch 1/20\n",
      "391/390 [==============================] - 73s 185ms/step - loss: 0.2639 - acc: 0.9171 - val_loss: 0.1308 - val_acc: 0.9595\n",
      "Epoch 2/20\n",
      "391/390 [==============================] - 72s 185ms/step - loss: 0.1819 - acc: 0.9440 - val_loss: 0.0965 - val_acc: 0.9715\n",
      "Epoch 3/20\n",
      "391/390 [==============================] - 70s 180ms/step - loss: 0.1458 - acc: 0.9540 - val_loss: 0.0990 - val_acc: 0.9707\n",
      "Epoch 4/20\n",
      "391/390 [==============================] - 70s 180ms/step - loss: 0.1243 - acc: 0.9608 - val_loss: 0.1020 - val_acc: 0.9687\n",
      "Epoch 5/20\n",
      "391/390 [==============================] - 71s 182ms/step - loss: 0.1109 - acc: 0.9656 - val_loss: 0.0655 - val_acc: 0.9821\n",
      "Epoch 6/20\n",
      "391/390 [==============================] - 70s 180ms/step - loss: 0.1028 - acc: 0.9674 - val_loss: 0.0761 - val_acc: 0.9770\n",
      "Epoch 7/20\n",
      "391/390 [==============================] - 78s 200ms/step - loss: 0.0954 - acc: 0.9703 - val_loss: 0.0607 - val_acc: 0.9817\n",
      "Epoch 8/20\n",
      "391/390 [==============================] - 79s 201ms/step - loss: 0.0864 - acc: 0.9724 - val_loss: 0.0601 - val_acc: 0.9819\n",
      "Epoch 9/20\n",
      "391/390 [==============================] - 79s 202ms/step - loss: 0.0818 - acc: 0.9747 - val_loss: 0.0748 - val_acc: 0.9770\n",
      "Epoch 10/20\n",
      "391/390 [==============================] - 78s 200ms/step - loss: 0.0793 - acc: 0.9752 - val_loss: 0.0432 - val_acc: 0.9876\n",
      "Epoch 11/20\n",
      "391/390 [==============================] - 79s 203ms/step - loss: 0.0760 - acc: 0.9770 - val_loss: 0.0584 - val_acc: 0.9813\n",
      "Epoch 12/20\n",
      "391/390 [==============================] - 78s 200ms/step - loss: 0.0713 - acc: 0.9783 - val_loss: 0.0489 - val_acc: 0.9858\n",
      "Epoch 13/20\n",
      "391/390 [==============================] - 77s 197ms/step - loss: 0.0699 - acc: 0.9778 - val_loss: 0.0542 - val_acc: 0.9841\n",
      "Epoch 14/20\n",
      "391/390 [==============================] - 71s 182ms/step - loss: 0.0678 - acc: 0.9790 - val_loss: 0.0451 - val_acc: 0.9866\n",
      "Epoch 15/20\n",
      "391/390 [==============================] - 71s 181ms/step - loss: 0.0668 - acc: 0.9793 - val_loss: 0.0631 - val_acc: 0.9808\n",
      "Epoch 16/20\n",
      "391/390 [==============================] - 70s 180ms/step - loss: 0.0646 - acc: 0.9804 - val_loss: 0.0426 - val_acc: 0.9877\n",
      "Epoch 17/20\n",
      "391/390 [==============================] - 70s 180ms/step - loss: 0.0614 - acc: 0.9810 - val_loss: 0.0547 - val_acc: 0.9839\n",
      "Epoch 18/20\n",
      "391/390 [==============================] - 70s 179ms/step - loss: 0.0580 - acc: 0.9814 - val_loss: 0.0463 - val_acc: 0.9871\n",
      "Epoch 19/20\n",
      "391/390 [==============================] - 79s 202ms/step - loss: 0.0631 - acc: 0.9810 - val_loss: 0.0482 - val_acc: 0.9856\n",
      "Epoch 20/20\n",
      "391/390 [==============================] - 79s 202ms/step - loss: 0.0598 - acc: 0.9825 - val_loss: 0.0566 - val_acc: 0.9839\n"
     ]
    },
    {
     "data": {
      "text/plain": [
       "<keras.callbacks.History at 0x182899d5ef0>"
      ]
     },
     "execution_count": 18,
     "metadata": {},
     "output_type": "execute_result"
    }
   ],
   "source": [
    "datagen_model.fit_generator(datagen.flow(X_train, Y_train, batch_size=128),\n",
    "                            validation_data=(X_val, Y_val),\n",
    "                            steps_per_epoch=len(X_train) / 128, \n",
    "                            epochs=20,\n",
    "                            callbacks=[csv_logger])"
   ]
  },
  {
   "cell_type": "code",
   "execution_count": 19,
   "metadata": {},
   "outputs": [
    {
     "name": "stdout",
     "output_type": "stream",
     "text": [
      "10000/10000 [==============================] - 7s 709us/step\n",
      "accuracy: 98.31%\n"
     ]
    }
   ],
   "source": [
    "(loss, accuracy) = datagen_model.evaluate(X_test, Y_test, batch_size=128, verbose=1)\n",
    "print(\"accuracy: {:.2f}%\".format(accuracy * 100))"
   ]
  },
  {
   "cell_type": "code",
   "execution_count": 20,
   "metadata": {},
   "outputs": [
    {
     "name": "stdout",
     "output_type": "stream",
     "text": [
      "    Unnamed: 0  0.9170799999809265  0.26398691534042357  0.9595000014305115  \\\n",
      "0            1             0.94400             0.181730              0.9715   \n",
      "1            2             0.95394             0.145803              0.9707   \n",
      "2            3             0.96080             0.124322              0.9687   \n",
      "3            4             0.96562             0.110910              0.9821   \n",
      "4            5             0.96738             0.102901              0.9770   \n",
      "5            6             0.97030             0.095418              0.9817   \n",
      "6            7             0.97234             0.086429              0.9819   \n",
      "7            8             0.97466             0.081778              0.9770   \n",
      "8            9             0.97518             0.079312              0.9876   \n",
      "9           10             0.97706             0.075964              0.9813   \n",
      "10          11             0.97826             0.071285              0.9858   \n",
      "11          12             0.97778             0.069894              0.9841   \n",
      "12          13             0.97894             0.067838              0.9866   \n",
      "13          14             0.97934             0.066850              0.9808   \n",
      "14          15             0.98036             0.064563              0.9877   \n",
      "15          16             0.98102             0.061361              0.9839   \n",
      "16          17             0.98142             0.058046              0.9871   \n",
      "17          18             0.98104             0.063009              0.9856   \n",
      "18          19             0.98252             0.059848              0.9839   \n",
      "\n",
      "    0.13075303130969404  \n",
      "0              0.096503  \n",
      "1              0.099017  \n",
      "2              0.102031  \n",
      "3              0.065496  \n",
      "4              0.076144  \n",
      "5              0.060737  \n",
      "6              0.060121  \n",
      "7              0.074833  \n",
      "8              0.043162  \n",
      "9              0.058407  \n",
      "10             0.048881  \n",
      "11             0.054159  \n",
      "12             0.045084  \n",
      "13             0.063128  \n",
      "14             0.042616  \n",
      "15             0.054694  \n",
      "16             0.046329  \n",
      "17             0.048185  \n",
      "18             0.056647  \n"
     ]
    }
   ],
   "source": [
    "import pandas as pd\n",
    "df = pd.read_csv('datagen_training.log')\n",
    "print(df)"
   ]
  },
  {
   "cell_type": "code",
   "execution_count": null,
   "metadata": {
    "collapsed": true
   },
   "outputs": [],
   "source": []
  }
 ],
 "metadata": {
  "kernelspec": {
   "display_name": "Python 3",
   "language": "python",
   "name": "python3"
  },
  "language_info": {
   "codemirror_mode": {
    "name": "ipython",
    "version": 3
   },
   "file_extension": ".py",
   "mimetype": "text/x-python",
   "name": "python",
   "nbconvert_exporter": "python",
   "pygments_lexer": "ipython3",
   "version": "3.6.3"
  }
 },
 "nbformat": 4,
 "nbformat_minor": 2
}
