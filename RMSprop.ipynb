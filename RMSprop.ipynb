{
 "cells": [
  {
   "cell_type": "code",
   "execution_count": 1,
   "metadata": {},
   "outputs": [
    {
     "name": "stderr",
     "output_type": "stream",
     "text": [
      "D:\\anaconda\\lib\\site-packages\\numpy\\core\\__init__.py:29: UserWarning: loaded more than 1 DLL from .libs:\n",
      "D:\\anaconda\\lib\\site-packages\\numpy\\.libs\\libopenblas.IPBC74C7KURV7CB2PKT5Z5FNR3SIBV4J.gfortran-win_amd64.dll\n",
      "D:\\anaconda\\lib\\site-packages\\numpy\\.libs\\libopenblas.TXA6YQSD3GCQQC22GEQ54J2UDCXDXHWN.gfortran-win_amd64.dll\n",
      "  stacklevel=1)\n"
     ]
    },
    {
     "name": "stdout",
     "output_type": "stream",
     "text": [
      "... loading data\n"
     ]
    }
   ],
   "source": [
    "import numpy as np \n",
    "from load_data import load_data\n",
    "train, valid, test  = load_data('./mnist.pkl.gz')"
   ]
  },
  {
   "cell_type": "code",
   "execution_count": 2,
   "metadata": {
    "collapsed": true
   },
   "outputs": [],
   "source": [
    "raw_X_train = train[0]\n",
    "raw_y_train = train[1]\n",
    "raw_X_val = valid[0]\n",
    "raw_y_val = valid[1]\n",
    "raw_X_test = test[0]\n",
    "raw_y_test = test[1]"
   ]
  },
  {
   "cell_type": "code",
   "execution_count": 3,
   "metadata": {
    "collapsed": true
   },
   "outputs": [],
   "source": [
    "n_train_samples = raw_X_train.shape[0]\n",
    "n_val_samples = raw_X_val.shape[0]\n",
    "n_test_samples = raw_X_test.shape[0]\n",
    "\n",
    "X_train = raw_X_train.reshape(n_train_samples, 28, 28, 1)\n",
    "X_val = raw_X_val.reshape(n_val_samples, 28, 28, 1)\n",
    "X_test = raw_X_test.reshape(n_test_samples, 28, 28, 1)"
   ]
  },
  {
   "cell_type": "code",
   "execution_count": 4,
   "metadata": {},
   "outputs": [
    {
     "name": "stderr",
     "output_type": "stream",
     "text": [
      "D:\\anaconda\\lib\\site-packages\\h5py\\__init__.py:34: FutureWarning: Conversion of the second argument of issubdtype from `float` to `np.floating` is deprecated. In future, it will be treated as `np.float64 == np.dtype(float).type`.\n",
      "  from ._conv import register_converters as _register_converters\n",
      "Using TensorFlow backend.\n"
     ]
    }
   ],
   "source": [
    "from keras import utils\n",
    "Y_train = utils.to_categorical(raw_y_train, num_classes=10)\n",
    "Y_val = utils.to_categorical(raw_y_val, num_classes=10)\n",
    "Y_test = utils.to_categorical(raw_y_test, num_classes=10)"
   ]
  },
  {
   "cell_type": "code",
   "execution_count": 5,
   "metadata": {
    "collapsed": true
   },
   "outputs": [],
   "source": [
    "from keras import Model\n",
    "from keras import Input\n",
    "from keras.layers import Conv2D\n",
    "from keras.layers import MaxPooling2D\n",
    "from keras.layers import Activation\n",
    "from keras.layers import Flatten\n",
    "from keras.layers import Dense\n",
    "def mnist_model():\n",
    "    X_input = Input(shape=(28, 28, 1), name='input')\n",
    "    \n",
    "    X = Conv2D(6, (5, 5), padding='same')(X_input)\n",
    "    X =Activation('relu')(X)\n",
    "    X= MaxPooling2D(pool_size=(2, 2), strides=(2, 2))(X)\n",
    "    \n",
    "    X = Conv2D(16,(5, 5), padding=\"same\")(X)\n",
    "    X = Activation(\"relu\")(X)\n",
    "    X = MaxPooling2D(pool_size=(2, 2), strides=(2, 2))(X)\n",
    "    \n",
    "    X = Flatten()(X)\n",
    "    X = Dense(120)(X)\n",
    "    X = Activation(\"relu\")(X)\n",
    "    \n",
    "    X = Dense(84)(X)\n",
    "    X = Activation(\"relu\")(X)\n",
    "    \n",
    "    X = Dense(10)(X)\n",
    "    X_output = Activation(\"softmax\")(X)\n",
    "    \n",
    "    model = Model(inputs = X_input, outputs = X_output)\n",
    "    \n",
    "    return model"
   ]
  },
  {
   "cell_type": "code",
   "execution_count": 6,
   "metadata": {},
   "outputs": [
    {
     "name": "stdout",
     "output_type": "stream",
     "text": [
      "WARNING:tensorflow:From D:\\anaconda\\lib\\site-packages\\tensorflow\\python\\framework\\op_def_library.py:263: colocate_with (from tensorflow.python.framework.ops) is deprecated and will be removed in a future version.\n",
      "Instructions for updating:\n",
      "Colocations handled automatically by placer.\n"
     ]
    }
   ],
   "source": [
    "RMSprop_model = mnist_model()"
   ]
  },
  {
   "cell_type": "code",
   "execution_count": 7,
   "metadata": {
    "collapsed": true
   },
   "outputs": [],
   "source": [
    "from keras.optimizers import RMSprop\n",
    "RMSprop_model.compile(loss=\"categorical_crossentropy\", optimizer=RMSprop(lr=0.001), metrics=[\"accuracy\"])"
   ]
  },
  {
   "cell_type": "code",
   "execution_count": 8,
   "metadata": {
    "collapsed": true
   },
   "outputs": [],
   "source": [
    "from keras.callbacks import CSVLogger\n",
    "csv_logger = CSVLogger('RMSprop_training.log')"
   ]
  },
  {
   "cell_type": "code",
   "execution_count": 9,
   "metadata": {},
   "outputs": [
    {
     "name": "stdout",
     "output_type": "stream",
     "text": [
      "WARNING:tensorflow:From D:\\anaconda\\lib\\site-packages\\tensorflow\\python\\ops\\math_ops.py:3066: to_int32 (from tensorflow.python.ops.math_ops) is deprecated and will be removed in a future version.\n",
      "Instructions for updating:\n",
      "Use tf.cast instead.\n",
      "Train on 50000 samples, validate on 10000 samples\n",
      "Epoch 1/20\n",
      "50000/50000 [==============================] - 76s 2ms/step - loss: 0.3210 - acc: 0.9019 - val_loss: 0.1247 - val_acc: 0.9614\n",
      "Epoch 2/20\n",
      "50000/50000 [==============================] - 76s 2ms/step - loss: 0.0744 - acc: 0.9767 - val_loss: 0.0580 - val_acc: 0.9828\n",
      "Epoch 3/20\n",
      "50000/50000 [==============================] - 87s 2ms/step - loss: 0.0480 - acc: 0.9848 - val_loss: 0.0453 - val_acc: 0.9866\n",
      "Epoch 4/20\n",
      "50000/50000 [==============================] - 70s 1ms/step - loss: 0.0363 - acc: 0.9883 - val_loss: 0.0402 - val_acc: 0.9874\n",
      "Epoch 5/20\n",
      "50000/50000 [==============================] - 60s 1ms/step - loss: 0.0283 - acc: 0.9913 - val_loss: 0.0384 - val_acc: 0.9886\n",
      "Epoch 6/20\n",
      "50000/50000 [==============================] - 60s 1ms/step - loss: 0.0235 - acc: 0.9925 - val_loss: 0.0544 - val_acc: 0.9842\n",
      "Epoch 7/20\n",
      "50000/50000 [==============================] - 60s 1ms/step - loss: 0.0192 - acc: 0.9940 - val_loss: 0.0403 - val_acc: 0.9904\n",
      "Epoch 8/20\n",
      "50000/50000 [==============================] - 60s 1ms/step - loss: 0.0146 - acc: 0.9955 - val_loss: 0.0437 - val_acc: 0.9886\n",
      "Epoch 9/20\n",
      "50000/50000 [==============================] - 60s 1ms/step - loss: 0.0131 - acc: 0.9960 - val_loss: 0.0440 - val_acc: 0.9880\n",
      "Epoch 10/20\n",
      "50000/50000 [==============================] - 61s 1ms/step - loss: 0.0110 - acc: 0.9965 - val_loss: 0.0454 - val_acc: 0.9897\n",
      "Epoch 11/20\n",
      "50000/50000 [==============================] - 59s 1ms/step - loss: 0.0082 - acc: 0.9972 - val_loss: 0.0524 - val_acc: 0.9889\n",
      "Epoch 12/20\n",
      "50000/50000 [==============================] - 86s 2ms/step - loss: 0.0072 - acc: 0.9978 - val_loss: 0.0567 - val_acc: 0.9889\n",
      "Epoch 13/20\n",
      "50000/50000 [==============================] - 69s 1ms/step - loss: 0.0066 - acc: 0.9977 - val_loss: 0.0664 - val_acc: 0.9873\n",
      "Epoch 14/20\n",
      "50000/50000 [==============================] - 58s 1ms/step - loss: 0.0063 - acc: 0.9978 - val_loss: 0.0507 - val_acc: 0.9902\n",
      "Epoch 15/20\n",
      "50000/50000 [==============================] - 62s 1ms/step - loss: 0.0053 - acc: 0.9983 - val_loss: 0.0520 - val_acc: 0.9904\n",
      "Epoch 16/20\n",
      "50000/50000 [==============================] - 59s 1ms/step - loss: 0.0045 - acc: 0.9987 - val_loss: 0.0783 - val_acc: 0.9882\n",
      "Epoch 17/20\n",
      "50000/50000 [==============================] - 84s 2ms/step - loss: 0.0042 - acc: 0.9987 - val_loss: 0.0578 - val_acc: 0.9887\n",
      "Epoch 18/20\n",
      "50000/50000 [==============================] - 91s 2ms/step - loss: 0.0039 - acc: 0.9986 - val_loss: 0.0581 - val_acc: 0.9898\n",
      "Epoch 19/20\n",
      "50000/50000 [==============================] - 84s 2ms/step - loss: 0.0033 - acc: 0.9991 - val_loss: 0.0558 - val_acc: 0.9910\n",
      "Epoch 20/20\n",
      "50000/50000 [==============================] - 69s 1ms/step - loss: 0.0029 - acc: 0.9991 - val_loss: 0.0619 - val_acc: 0.9905\n"
     ]
    }
   ],
   "source": [
    "history = RMSprop_model.fit(X_train, Y_train, validation_data=[X_val, Y_val], batch_size=128, epochs=20, verbose=1, callbacks=[csv_logger])"
   ]
  },
  {
   "cell_type": "code",
   "execution_count": 10,
   "metadata": {},
   "outputs": [
    {
     "name": "stdout",
     "output_type": "stream",
     "text": [
      "10000/10000 [==============================] - 5s 544us/step\n",
      "accuracy: 99.12%\n"
     ]
    }
   ],
   "source": [
    "(loss, accuracy) = RMSprop_model.evaluate(X_test, Y_test, batch_size=128, verbose=1)\n",
    "print(\"accuracy: {:.2f}%\".format(accuracy * 100))"
   ]
  },
  {
   "cell_type": "code",
   "execution_count": 11,
   "metadata": {
    "collapsed": true
   },
   "outputs": [],
   "source": [
    "import pandas as pd\n",
    "df = pd.read_csv('RMSprop_training.log')"
   ]
  },
  {
   "cell_type": "code",
   "execution_count": 12,
   "metadata": {},
   "outputs": [
    {
     "name": "stdout",
     "output_type": "stream",
     "text": [
      "    epoch      acc      loss  val_acc  val_loss\n",
      "0       0  0.90188  0.320951   0.9614  0.124662\n",
      "1       1  0.97666  0.074448   0.9828  0.057962\n",
      "2       2  0.98484  0.047982   0.9866  0.045281\n",
      "3       3  0.98828  0.036286   0.9874  0.040228\n",
      "4       4  0.99134  0.028335   0.9886  0.038392\n",
      "5       5  0.99252  0.023451   0.9842  0.054384\n",
      "6       6  0.99402  0.019166   0.9904  0.040325\n",
      "7       7  0.99546  0.014566   0.9886  0.043683\n",
      "8       8  0.99598  0.013132   0.9880  0.044049\n",
      "9       9  0.99646  0.010996   0.9897  0.045433\n",
      "10     10  0.99724  0.008203   0.9889  0.052449\n",
      "11     11  0.99780  0.007217   0.9889  0.056741\n",
      "12     12  0.99774  0.006558   0.9873  0.066419\n",
      "13     13  0.99784  0.006256   0.9902  0.050701\n",
      "14     14  0.99828  0.005279   0.9904  0.051985\n",
      "15     15  0.99868  0.004515   0.9882  0.078296\n",
      "16     16  0.99866  0.004159   0.9887  0.057805\n",
      "17     17  0.99864  0.003860   0.9898  0.058123\n",
      "18     18  0.99914  0.003337   0.9910  0.055811\n",
      "19     19  0.99906  0.002916   0.9905  0.061936\n"
     ]
    }
   ],
   "source": [
    "print(df)"
   ]
  },
  {
   "cell_type": "code",
   "execution_count": null,
   "metadata": {
    "collapsed": true
   },
   "outputs": [],
   "source": []
  }
 ],
 "metadata": {
  "kernelspec": {
   "display_name": "Python 3",
   "language": "python",
   "name": "python3"
  },
  "language_info": {
   "codemirror_mode": {
    "name": "ipython",
    "version": 3
   },
   "file_extension": ".py",
   "mimetype": "text/x-python",
   "name": "python",
   "nbconvert_exporter": "python",
   "pygments_lexer": "ipython3",
   "version": "3.6.3"
  }
 },
 "nbformat": 4,
 "nbformat_minor": 2
}
