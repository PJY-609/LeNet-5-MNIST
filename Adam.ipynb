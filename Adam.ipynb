{
 "cells": [
  {
   "cell_type": "code",
   "execution_count": 1,
   "metadata": {},
   "outputs": [
    {
     "name": "stderr",
     "output_type": "stream",
     "text": [
      "D:\\anaconda\\lib\\site-packages\\numpy\\core\\__init__.py:29: UserWarning: loaded more than 1 DLL from .libs:\n",
      "D:\\anaconda\\lib\\site-packages\\numpy\\.libs\\libopenblas.IPBC74C7KURV7CB2PKT5Z5FNR3SIBV4J.gfortran-win_amd64.dll\n",
      "D:\\anaconda\\lib\\site-packages\\numpy\\.libs\\libopenblas.TXA6YQSD3GCQQC22GEQ54J2UDCXDXHWN.gfortran-win_amd64.dll\n",
      "  stacklevel=1)\n"
     ]
    },
    {
     "name": "stdout",
     "output_type": "stream",
     "text": [
      "... loading data\n"
     ]
    }
   ],
   "source": [
    "import numpy as np \n",
    "from load_data import load_data\n",
    "train, valid, test  = load_data('./mnist.pkl.gz')"
   ]
  },
  {
   "cell_type": "code",
   "execution_count": 2,
   "metadata": {
    "collapsed": true
   },
   "outputs": [],
   "source": [
    "raw_X_train = train[0]\n",
    "raw_y_train = train[1]\n",
    "raw_X_val = valid[0]\n",
    "raw_y_val = valid[1]\n",
    "raw_X_test = test[0]\n",
    "raw_y_test = test[1]"
   ]
  },
  {
   "cell_type": "code",
   "execution_count": 3,
   "metadata": {
    "collapsed": true
   },
   "outputs": [],
   "source": [
    "n_train_samples = raw_X_train.shape[0]\n",
    "n_val_samples = raw_X_val.shape[0]\n",
    "n_test_samples = raw_X_test.shape[0]\n",
    "\n",
    "X_train = raw_X_train.reshape(n_train_samples, 28, 28, 1)\n",
    "X_val = raw_X_val.reshape(n_val_samples, 28, 28, 1)\n",
    "X_test = raw_X_test.reshape(n_test_samples, 28, 28, 1)"
   ]
  },
  {
   "cell_type": "code",
   "execution_count": 4,
   "metadata": {},
   "outputs": [
    {
     "name": "stderr",
     "output_type": "stream",
     "text": [
      "D:\\anaconda\\lib\\site-packages\\h5py\\__init__.py:34: FutureWarning: Conversion of the second argument of issubdtype from `float` to `np.floating` is deprecated. In future, it will be treated as `np.float64 == np.dtype(float).type`.\n",
      "  from ._conv import register_converters as _register_converters\n",
      "Using TensorFlow backend.\n"
     ]
    }
   ],
   "source": [
    "from keras import utils\n",
    "Y_train = utils.to_categorical(raw_y_train, num_classes=10)\n",
    "Y_val = utils.to_categorical(raw_y_val, num_classes=10)\n",
    "Y_test = utils.to_categorical(raw_y_test, num_classes=10)"
   ]
  },
  {
   "cell_type": "code",
   "execution_count": 5,
   "metadata": {
    "collapsed": true
   },
   "outputs": [],
   "source": [
    "from keras import Model\n",
    "from keras import Input\n",
    "from keras.layers import Conv2D\n",
    "from keras.layers import MaxPooling2D\n",
    "from keras.layers import Activation\n",
    "from keras.layers import Flatten\n",
    "from keras.layers import Dense\n",
    "def mnist_model():\n",
    "    X_input = Input(shape=(28, 28, 1), name='input')\n",
    "    \n",
    "    X = Conv2D(6, (5, 5), padding='same')(X_input)\n",
    "    X =Activation('relu')(X)\n",
    "    X= MaxPooling2D(pool_size=(2, 2), strides=(2, 2))(X)\n",
    "    \n",
    "    X = Conv2D(16,(5, 5), padding=\"same\")(X)\n",
    "    X = Activation(\"relu\")(X)\n",
    "    X = MaxPooling2D(pool_size=(2, 2), strides=(2, 2))(X)\n",
    "    \n",
    "    X = Flatten()(X)\n",
    "    X = Dense(120)(X)\n",
    "    X = Activation(\"relu\")(X)\n",
    "    \n",
    "    X = Dense(84)(X)\n",
    "    X = Activation(\"relu\")(X)\n",
    "    \n",
    "    X = Dense(10)(X)\n",
    "    X_output = Activation(\"softmax\")(X)\n",
    "    \n",
    "    model = Model(inputs = X_input, outputs = X_output)\n",
    "    \n",
    "    return model"
   ]
  },
  {
   "cell_type": "code",
   "execution_count": 6,
   "metadata": {},
   "outputs": [
    {
     "name": "stdout",
     "output_type": "stream",
     "text": [
      "WARNING:tensorflow:From D:\\anaconda\\lib\\site-packages\\tensorflow\\python\\framework\\op_def_library.py:263: colocate_with (from tensorflow.python.framework.ops) is deprecated and will be removed in a future version.\n",
      "Instructions for updating:\n",
      "Colocations handled automatically by placer.\n"
     ]
    }
   ],
   "source": [
    "adam_model = mnist_model()"
   ]
  },
  {
   "cell_type": "code",
   "execution_count": 7,
   "metadata": {
    "collapsed": true
   },
   "outputs": [],
   "source": [
    "from keras.optimizers import Adam\n",
    "adam_model.compile(loss=\"categorical_crossentropy\", optimizer=Adam(lr=0.001), metrics=[\"accuracy\"])"
   ]
  },
  {
   "cell_type": "code",
   "execution_count": 8,
   "metadata": {
    "collapsed": true
   },
   "outputs": [],
   "source": [
    "from keras.callbacks import CSVLogger\n",
    "csv_logger = CSVLogger('adam_training.log')"
   ]
  },
  {
   "cell_type": "code",
   "execution_count": 10,
   "metadata": {},
   "outputs": [
    {
     "name": "stdout",
     "output_type": "stream",
     "text": [
      "Train on 50000 samples, validate on 10000 samples\n",
      "Epoch 1/20\n",
      "50000/50000 [==============================] - 62s 1ms/step - loss: 0.2931 - acc: 0.9141 - val_loss: 0.0996 - val_acc: 0.9726\n",
      "Epoch 2/20\n",
      "50000/50000 [==============================] - 53s 1ms/step - loss: 0.0891 - acc: 0.9726 - val_loss: 0.0699 - val_acc: 0.9790\n",
      "Epoch 3/20\n",
      "50000/50000 [==============================] - 57s 1ms/step - loss: 0.0665 - acc: 0.9797 - val_loss: 0.0634 - val_acc: 0.9803\n",
      "Epoch 4/20\n",
      "50000/50000 [==============================] - 59s 1ms/step - loss: 0.0491 - acc: 0.9843 - val_loss: 0.0518 - val_acc: 0.9847\n",
      "Epoch 5/20\n",
      "50000/50000 [==============================] - 69s 1ms/step - loss: 0.0405 - acc: 0.9872 - val_loss: 0.0531 - val_acc: 0.9841\n",
      "Epoch 6/20\n",
      "50000/50000 [==============================] - 52s 1ms/step - loss: 0.0331 - acc: 0.9889 - val_loss: 0.0482 - val_acc: 0.9867\n",
      "Epoch 7/20\n",
      "50000/50000 [==============================] - 51s 1ms/step - loss: 0.0292 - acc: 0.9907 - val_loss: 0.0447 - val_acc: 0.9855\n",
      "Epoch 8/20\n",
      "50000/50000 [==============================] - 52s 1ms/step - loss: 0.0246 - acc: 0.9920 - val_loss: 0.0428 - val_acc: 0.9877\n",
      "Epoch 9/20\n",
      "50000/50000 [==============================] - 73s 1ms/step - loss: 0.0204 - acc: 0.9931 - val_loss: 0.0525 - val_acc: 0.9854\n",
      "Epoch 10/20\n",
      "50000/50000 [==============================] - 80s 2ms/step - loss: 0.0180 - acc: 0.9939 - val_loss: 0.0554 - val_acc: 0.9856\n",
      "Epoch 11/20\n",
      "50000/50000 [==============================] - 79s 2ms/step - loss: 0.0160 - acc: 0.9945 - val_loss: 0.0577 - val_acc: 0.9856\n",
      "Epoch 12/20\n",
      "50000/50000 [==============================] - 84s 2ms/step - loss: 0.0164 - acc: 0.9943 - val_loss: 0.0534 - val_acc: 0.9881\n",
      "Epoch 13/20\n",
      "50000/50000 [==============================] - 104s 2ms/step - loss: 0.0125 - acc: 0.9959 - val_loss: 0.0552 - val_acc: 0.9864\n",
      "Epoch 14/20\n",
      "50000/50000 [==============================] - 70s 1ms/step - loss: 0.0126 - acc: 0.9958 - val_loss: 0.0546 - val_acc: 0.9876\n",
      "Epoch 15/20\n",
      "50000/50000 [==============================] - 71s 1ms/step - loss: 0.0100 - acc: 0.9967 - val_loss: 0.0512 - val_acc: 0.9888\n",
      "Epoch 16/20\n",
      "50000/50000 [==============================] - 97s 2ms/step - loss: 0.0103 - acc: 0.9966 - val_loss: 0.0624 - val_acc: 0.9854\n",
      "Epoch 17/20\n",
      "50000/50000 [==============================] - 87s 2ms/step - loss: 0.0087 - acc: 0.9969 - val_loss: 0.0548 - val_acc: 0.9881\n",
      "Epoch 18/20\n",
      "50000/50000 [==============================] - 80s 2ms/step - loss: 0.0075 - acc: 0.9972 - val_loss: 0.0511 - val_acc: 0.9889\n",
      "Epoch 19/20\n",
      "50000/50000 [==============================] - 62s 1ms/step - loss: 0.0086 - acc: 0.9971 - val_loss: 0.0621 - val_acc: 0.9874\n",
      "Epoch 20/20\n",
      "50000/50000 [==============================] - 61s 1ms/step - loss: 0.0077 - acc: 0.9972 - val_loss: 0.0590 - val_acc: 0.9870\n"
     ]
    }
   ],
   "source": [
    "history = adam_model.fit(X_train, Y_train, validation_data=[X_val, Y_val], batch_size=128, epochs=20, verbose=1, callbacks=[csv_logger])"
   ]
  },
  {
   "cell_type": "code",
   "execution_count": 11,
   "metadata": {},
   "outputs": [
    {
     "name": "stdout",
     "output_type": "stream",
     "text": [
      "10000/10000 [==============================] - 8s 758us/step\n",
      "accuracy: 98.69%\n"
     ]
    }
   ],
   "source": [
    "(loss, accuracy) = adam_model.evaluate(X_test, Y_test, batch_size=128, verbose=1)\n",
    "print(\"accuracy: {:.2f}%\".format(accuracy * 100))"
   ]
  },
  {
   "cell_type": "code",
   "execution_count": 1,
   "metadata": {
    "collapsed": true
   },
   "outputs": [],
   "source": [
    "import pandas as pd\n",
    "df = pd.read_csv('adam_training.log')"
   ]
  },
  {
   "cell_type": "code",
   "execution_count": 2,
   "metadata": {},
   "outputs": [
    {
     "name": "stdout",
     "output_type": "stream",
     "text": [
      "    epoch      acc      loss  val_acc  val_loss\n",
      "0       0  0.91412  0.293140   0.9726  0.099604\n",
      "1       1  0.97264  0.089085   0.9790  0.069939\n",
      "2       2  0.97972  0.066463   0.9803  0.063433\n",
      "3       3  0.98432  0.049144   0.9847  0.051837\n",
      "4       4  0.98722  0.040488   0.9841  0.053115\n",
      "5       5  0.98894  0.033128   0.9867  0.048157\n",
      "6       6  0.99066  0.029217   0.9855  0.044652\n",
      "7       7  0.99200  0.024573   0.9877  0.042765\n",
      "8       8  0.99312  0.020401   0.9854  0.052532\n",
      "9       9  0.99388  0.018003   0.9856  0.055388\n",
      "10     10  0.99454  0.015951   0.9856  0.057670\n",
      "11     11  0.99434  0.016404   0.9881  0.053390\n",
      "12     12  0.99590  0.012521   0.9864  0.055155\n",
      "13     13  0.99578  0.012635   0.9876  0.054601\n",
      "14     14  0.99666  0.010030   0.9888  0.051194\n",
      "15     15  0.99656  0.010265   0.9854  0.062434\n",
      "16     16  0.99688  0.008714   0.9881  0.054842\n",
      "17     17  0.99716  0.007524   0.9889  0.051102\n",
      "18     18  0.99708  0.008576   0.9874  0.062091\n",
      "19     19  0.99718  0.007740   0.9870  0.058978\n"
     ]
    }
   ],
   "source": [
    "print(df)"
   ]
  },
  {
   "cell_type": "code",
   "execution_count": null,
   "metadata": {
    "collapsed": true
   },
   "outputs": [],
   "source": []
  }
 ],
 "metadata": {
  "kernelspec": {
   "display_name": "Python 3",
   "language": "python",
   "name": "python3"
  },
  "language_info": {
   "codemirror_mode": {
    "name": "ipython",
    "version": 3
   },
   "file_extension": ".py",
   "mimetype": "text/x-python",
   "name": "python",
   "nbconvert_exporter": "python",
   "pygments_lexer": "ipython3",
   "version": "3.6.3"
  }
 },
 "nbformat": 4,
 "nbformat_minor": 2
}
