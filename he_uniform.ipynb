{
 "cells": [
  {
   "cell_type": "code",
   "execution_count": 1,
   "metadata": {},
   "outputs": [
    {
     "name": "stderr",
     "output_type": "stream",
     "text": [
      "D:\\anaconda\\lib\\site-packages\\numpy\\core\\__init__.py:29: UserWarning: loaded more than 1 DLL from .libs:\n",
      "D:\\anaconda\\lib\\site-packages\\numpy\\.libs\\libopenblas.IPBC74C7KURV7CB2PKT5Z5FNR3SIBV4J.gfortran-win_amd64.dll\n",
      "D:\\anaconda\\lib\\site-packages\\numpy\\.libs\\libopenblas.TXA6YQSD3GCQQC22GEQ54J2UDCXDXHWN.gfortran-win_amd64.dll\n",
      "  stacklevel=1)\n"
     ]
    },
    {
     "name": "stdout",
     "output_type": "stream",
     "text": [
      "... loading data\n"
     ]
    }
   ],
   "source": [
    "import numpy as np \n",
    "from load_data import load_data\n",
    "train, valid, test  = load_data('./mnist.pkl.gz')"
   ]
  },
  {
   "cell_type": "code",
   "execution_count": 2,
   "metadata": {
    "collapsed": true
   },
   "outputs": [],
   "source": [
    "raw_X_train = train[0]\n",
    "raw_y_train = train[1]\n",
    "raw_X_val = valid[0]\n",
    "raw_y_val = valid[1]\n",
    "raw_X_test = test[0]\n",
    "raw_y_test = test[1]"
   ]
  },
  {
   "cell_type": "code",
   "execution_count": 3,
   "metadata": {
    "collapsed": true
   },
   "outputs": [],
   "source": [
    "n_train_samples = raw_X_train.shape[0]\n",
    "n_val_samples = raw_X_val.shape[0]\n",
    "n_test_samples = raw_X_test.shape[0]\n",
    "\n",
    "X_train = raw_X_train.reshape(n_train_samples, 28, 28, 1)\n",
    "X_val = raw_X_val.reshape(n_val_samples, 28, 28, 1)\n",
    "X_test = raw_X_test.reshape(n_test_samples, 28, 28, 1)"
   ]
  },
  {
   "cell_type": "code",
   "execution_count": 4,
   "metadata": {},
   "outputs": [
    {
     "name": "stderr",
     "output_type": "stream",
     "text": [
      "D:\\anaconda\\lib\\site-packages\\h5py\\__init__.py:34: FutureWarning: Conversion of the second argument of issubdtype from `float` to `np.floating` is deprecated. In future, it will be treated as `np.float64 == np.dtype(float).type`.\n",
      "  from ._conv import register_converters as _register_converters\n",
      "Using TensorFlow backend.\n"
     ]
    }
   ],
   "source": [
    "from keras import utils\n",
    "Y_train = utils.to_categorical(raw_y_train, num_classes=10)\n",
    "Y_val = utils.to_categorical(raw_y_val, num_classes=10)\n",
    "Y_test = utils.to_categorical(raw_y_test, num_classes=10)"
   ]
  },
  {
   "cell_type": "code",
   "execution_count": 5,
   "metadata": {
    "collapsed": true
   },
   "outputs": [],
   "source": [
    "from keras import Model\n",
    "from keras import Input\n",
    "from keras.layers import Conv2D\n",
    "from keras.layers import MaxPooling2D\n",
    "from keras.layers import Activation\n",
    "from keras.layers import Flatten\n",
    "from keras.layers import Dense\n",
    "def mnist_model():\n",
    "    X_input = Input(shape=(28, 28, 1), name='input')\n",
    "    \n",
    "    X = Conv2D(6, (5, 5), padding='same', kernel_initializer='he_uniform', bias_initializer='zeros')(X_input)\n",
    "    X =Activation('relu')(X)\n",
    "    X= MaxPooling2D(pool_size=(2, 2), strides=(2, 2))(X)\n",
    "    \n",
    "    X = Conv2D(16,(5, 5), padding=\"same\", kernel_initializer='he_uniform', bias_initializer='zeros')(X)\n",
    "    X = Activation(\"relu\")(X)\n",
    "    X = MaxPooling2D(pool_size=(2, 2), strides=(2, 2))(X)\n",
    "    \n",
    "    X = Flatten()(X)\n",
    "    X = Dense(120, kernel_initializer='he_uniform', bias_initializer='zeros')(X)\n",
    "    X = Activation(\"relu\")(X)\n",
    "    \n",
    "    X = Dense(84, kernel_initializer='he_uniform', bias_initializer='zeros')(X)\n",
    "    X = Activation(\"relu\")(X)\n",
    "    \n",
    "    X = Dense(10)(X)\n",
    "    X_output = Activation(\"softmax\")(X)\n",
    "    \n",
    "    model = Model(inputs = X_input, outputs = X_output)\n",
    "    \n",
    "    return model"
   ]
  },
  {
   "cell_type": "code",
   "execution_count": 6,
   "metadata": {},
   "outputs": [
    {
     "name": "stdout",
     "output_type": "stream",
     "text": [
      "WARNING:tensorflow:From D:\\anaconda\\lib\\site-packages\\tensorflow\\python\\framework\\op_def_library.py:263: colocate_with (from tensorflow.python.framework.ops) is deprecated and will be removed in a future version.\n",
      "Instructions for updating:\n",
      "Colocations handled automatically by placer.\n"
     ]
    }
   ],
   "source": [
    "he_model = mnist_model()"
   ]
  },
  {
   "cell_type": "code",
   "execution_count": 7,
   "metadata": {
    "collapsed": true
   },
   "outputs": [],
   "source": [
    "from keras.optimizers import SGD\n",
    "he_model.compile(loss=\"categorical_crossentropy\", optimizer=SGD(lr=0.001), metrics=[\"accuracy\"])"
   ]
  },
  {
   "cell_type": "code",
   "execution_count": 8,
   "metadata": {
    "collapsed": true
   },
   "outputs": [],
   "source": [
    "from keras.callbacks import CSVLogger\n",
    "csv_logger = CSVLogger('he_1_training.log')"
   ]
  },
  {
   "cell_type": "code",
   "execution_count": 9,
   "metadata": {},
   "outputs": [
    {
     "name": "stdout",
     "output_type": "stream",
     "text": [
      "WARNING:tensorflow:From D:\\anaconda\\lib\\site-packages\\tensorflow\\python\\ops\\math_ops.py:3066: to_int32 (from tensorflow.python.ops.math_ops) is deprecated and will be removed in a future version.\n",
      "Instructions for updating:\n",
      "Use tf.cast instead.\n",
      "Train on 50000 samples, validate on 10000 samples\n",
      "Epoch 1/20\n",
      "50000/50000 [==============================] - 60s 1ms/step - loss: 2.0944 - acc: 0.2998 - val_loss: 1.7632 - val_acc: 0.5070\n",
      "Epoch 2/20\n",
      "50000/50000 [==============================] - 65s 1ms/step - loss: 1.4218 - acc: 0.6388 - val_loss: 1.0320 - val_acc: 0.7546\n",
      "Epoch 3/20\n",
      "50000/50000 [==============================] - 77s 2ms/step - loss: 0.8487 - acc: 0.7702 - val_loss: 0.6451 - val_acc: 0.8254\n",
      "Epoch 4/20\n",
      "50000/50000 [==============================] - 68s 1ms/step - loss: 0.6007 - acc: 0.8241 - val_loss: 0.4906 - val_acc: 0.8597\n",
      "Epoch 5/20\n",
      "50000/50000 [==============================] - 63s 1ms/step - loss: 0.4838 - acc: 0.8586 - val_loss: 0.4104 - val_acc: 0.8797\n",
      "Epoch 6/20\n",
      "50000/50000 [==============================] - 63s 1ms/step - loss: 0.4155 - acc: 0.8789 - val_loss: 0.3556 - val_acc: 0.8998\n",
      "Epoch 7/20\n",
      "50000/50000 [==============================] - 61s 1ms/step - loss: 0.3706 - acc: 0.8926 - val_loss: 0.3196 - val_acc: 0.9100\n",
      "Epoch 8/20\n",
      "50000/50000 [==============================] - 60s 1ms/step - loss: 0.3385 - acc: 0.9022 - val_loss: 0.2954 - val_acc: 0.9160\n",
      "Epoch 9/20\n",
      "50000/50000 [==============================] - 61s 1ms/step - loss: 0.3138 - acc: 0.9086 - val_loss: 0.2740 - val_acc: 0.9189\n",
      "Epoch 10/20\n",
      "50000/50000 [==============================] - 62s 1ms/step - loss: 0.2935 - acc: 0.9146 - val_loss: 0.2575 - val_acc: 0.9242\n",
      "Epoch 11/20\n",
      "50000/50000 [==============================] - 61s 1ms/step - loss: 0.2762 - acc: 0.9191 - val_loss: 0.2435 - val_acc: 0.9288\n",
      "Epoch 12/20\n",
      "50000/50000 [==============================] - 61s 1ms/step - loss: 0.2617 - acc: 0.9232 - val_loss: 0.2312 - val_acc: 0.9311\n",
      "Epoch 13/20\n",
      "50000/50000 [==============================] - 60s 1ms/step - loss: 0.2487 - acc: 0.9273 - val_loss: 0.2210 - val_acc: 0.9355\n",
      "Epoch 14/20\n",
      "50000/50000 [==============================] - 61s 1ms/step - loss: 0.2375 - acc: 0.9299 - val_loss: 0.2099 - val_acc: 0.9401\n",
      "Epoch 15/20\n",
      "50000/50000 [==============================] - 58s 1ms/step - loss: 0.2277 - acc: 0.9334 - val_loss: 0.2027 - val_acc: 0.9400\n",
      "Epoch 16/20\n",
      "50000/50000 [==============================] - 61s 1ms/step - loss: 0.2184 - acc: 0.9356 - val_loss: 0.1941 - val_acc: 0.9437\n",
      "Epoch 17/20\n",
      "50000/50000 [==============================] - 65s 1ms/step - loss: 0.2101 - acc: 0.9378 - val_loss: 0.1906 - val_acc: 0.9433\n",
      "Epoch 18/20\n",
      "50000/50000 [==============================] - 63s 1ms/step - loss: 0.2026 - acc: 0.9404 - val_loss: 0.1822 - val_acc: 0.9477\n",
      "Epoch 19/20\n",
      "50000/50000 [==============================] - 64s 1ms/step - loss: 0.1956 - acc: 0.9419 - val_loss: 0.1753 - val_acc: 0.9500\n",
      "Epoch 20/20\n",
      "50000/50000 [==============================] - 62s 1ms/step - loss: 0.1893 - acc: 0.9448 - val_loss: 0.1719 - val_acc: 0.9498\n"
     ]
    }
   ],
   "source": [
    "history = he_model.fit(X_train, Y_train, validation_data=[X_val, Y_val], batch_size=128, epochs=20, verbose=1, callbacks=[csv_logger])"
   ]
  },
  {
   "cell_type": "code",
   "execution_count": 10,
   "metadata": {},
   "outputs": [
    {
     "name": "stdout",
     "output_type": "stream",
     "text": [
      "10000/10000 [==============================] - 6s 628us/step\n",
      "accuracy: 94.75%\n"
     ]
    }
   ],
   "source": [
    "(loss, accuracy) = he_model.evaluate(X_test, Y_test, batch_size=128, verbose=1)\n",
    "print(\"accuracy: {:.2f}%\".format(accuracy * 100))"
   ]
  },
  {
   "cell_type": "code",
   "execution_count": 11,
   "metadata": {},
   "outputs": [
    {
     "name": "stdout",
     "output_type": "stream",
     "text": [
      "    epoch      acc      loss  val_acc  val_loss\n",
      "0       0  0.29980  2.094381   0.5070  1.763237\n",
      "1       1  0.63882  1.421797   0.7546  1.031968\n",
      "2       2  0.77016  0.848665   0.8254  0.645073\n",
      "3       3  0.82406  0.600691   0.8597  0.490616\n",
      "4       4  0.85862  0.483756   0.8797  0.410352\n",
      "5       5  0.87886  0.415503   0.8998  0.355589\n",
      "6       6  0.89256  0.370614   0.9100  0.319577\n",
      "7       7  0.90224  0.338516   0.9160  0.295367\n",
      "8       8  0.90860  0.313806   0.9189  0.273979\n",
      "9       9  0.91458  0.293466   0.9242  0.257524\n",
      "10     10  0.91908  0.276216   0.9288  0.243483\n",
      "11     11  0.92324  0.261708   0.9311  0.231242\n",
      "12     12  0.92734  0.248740   0.9355  0.221034\n",
      "13     13  0.92994  0.237544   0.9401  0.209917\n",
      "14     14  0.93340  0.227653   0.9400  0.202670\n",
      "15     15  0.93560  0.218440   0.9437  0.194068\n",
      "16     16  0.93784  0.210055   0.9433  0.190572\n",
      "17     17  0.94040  0.202594   0.9477  0.182229\n",
      "18     18  0.94188  0.195588   0.9500  0.175331\n",
      "19     19  0.94476  0.189277   0.9498  0.171913\n"
     ]
    }
   ],
   "source": [
    "import pandas as pd\n",
    "df = pd.read_csv('he_1_training.log')\n",
    "print(df)"
   ]
  }
 ],
 "metadata": {
  "kernelspec": {
   "display_name": "Python 3",
   "language": "python",
   "name": "python3"
  },
  "language_info": {
   "codemirror_mode": {
    "name": "ipython",
    "version": 3
   },
   "file_extension": ".py",
   "mimetype": "text/x-python",
   "name": "python",
   "nbconvert_exporter": "python",
   "pygments_lexer": "ipython3",
   "version": "3.6.3"
  }
 },
 "nbformat": 4,
 "nbformat_minor": 2
}
