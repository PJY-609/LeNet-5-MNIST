{
 "cells": [
  {
   "cell_type": "code",
   "execution_count": 1,
   "metadata": {},
   "outputs": [
    {
     "name": "stderr",
     "output_type": "stream",
     "text": [
      "D:\\anaconda\\lib\\site-packages\\numpy\\core\\__init__.py:29: UserWarning: loaded more than 1 DLL from .libs:\n",
      "D:\\anaconda\\lib\\site-packages\\numpy\\.libs\\libopenblas.IPBC74C7KURV7CB2PKT5Z5FNR3SIBV4J.gfortran-win_amd64.dll\n",
      "D:\\anaconda\\lib\\site-packages\\numpy\\.libs\\libopenblas.TXA6YQSD3GCQQC22GEQ54J2UDCXDXHWN.gfortran-win_amd64.dll\n",
      "  stacklevel=1)\n"
     ]
    },
    {
     "name": "stdout",
     "output_type": "stream",
     "text": [
      "... loading data\n"
     ]
    }
   ],
   "source": [
    "import numpy as np \n",
    "from load_data import load_data\n",
    "train, valid, test  = load_data('./mnist.pkl.gz')"
   ]
  },
  {
   "cell_type": "code",
   "execution_count": 11,
   "metadata": {
    "collapsed": true
   },
   "outputs": [],
   "source": [
    "raw_X_train = train[0]\n",
    "raw_y_train = train[1]\n",
    "raw_X_val = valid[0]\n",
    "raw_y_val = valid[1]\n",
    "raw_X_test = test[0]\n",
    "raw_y_test =test[1]"
   ]
  },
  {
   "cell_type": "code",
   "execution_count": 12,
   "metadata": {
    "collapsed": true
   },
   "outputs": [],
   "source": [
    "n_train_samples = raw_X_train.shape[0]\n",
    "n_val_samples = raw_X_val.shape[0]\n",
    "n_test_samples = raw_X_test.shape[0]\n",
    "\n",
    "X_train = raw_X_train.reshape(n_train_samples, 28, 28, 1)\n",
    "X_val = raw_X_val.reshape(n_val_samples, 28, 28, 1)\n",
    "X_test = raw_X_test.reshape(n_test_samples, 28, 28, 1)"
   ]
  },
  {
   "cell_type": "code",
   "execution_count": 13,
   "metadata": {
    "collapsed": true
   },
   "outputs": [],
   "source": [
    "from keras import utils\n",
    "Y_train = utils.to_categorical(raw_y_train, num_classes=10)\n",
    "Y_val = utils.to_categorical(raw_y_val, num_classes=10)\n",
    "Y_test = utils.to_categorical(raw_y_test, num_classes=10)"
   ]
  },
  {
   "cell_type": "code",
   "execution_count": 5,
   "metadata": {
    "collapsed": true
   },
   "outputs": [],
   "source": [
    "from keras import Model\n",
    "from keras import Input\n",
    "from keras.layers import Conv2D\n",
    "from keras.layers import MaxPooling2D\n",
    "from keras.layers import Activation\n",
    "from keras.layers import Flatten\n",
    "from keras.layers import Dense\n",
    "def mnist_model():\n",
    "    X_input = Input(shape=(28, 28, 1), name='input')\n",
    "    \n",
    "    X = Conv2D(6, (5, 5), padding='same', kernel_initializer='random_normal', bias_initializer='zeros')(X_input)\n",
    "    X =Activation('relu')(X)\n",
    "    X= MaxPooling2D(pool_size=(2, 2), strides=(2, 2))(X)\n",
    "    \n",
    "    X = Conv2D(16,(5, 5), padding=\"same\", kernel_initializer='random_normal', bias_initializer='zeros')(X)\n",
    "    X = Activation(\"relu\")(X)\n",
    "    X = MaxPooling2D(pool_size=(2, 2), strides=(2, 2))(X)\n",
    "    \n",
    "    X = Flatten()(X)\n",
    "    X = Dense(120, kernel_initializer='random_normal', bias_initializer='zeros')(X)\n",
    "    X = Activation(\"relu\")(X)\n",
    "    \n",
    "    X = Dense(84, kernel_initializer='random_normal', bias_initializer='zeros')(X)\n",
    "    X = Activation(\"relu\")(X)\n",
    "    \n",
    "    X = Dense(10)(X)\n",
    "    X_output = Activation(\"softmax\")(X)\n",
    "    \n",
    "    model = Model(inputs = X_input, outputs = X_output)\n",
    "    \n",
    "    return model"
   ]
  },
  {
   "cell_type": "code",
   "execution_count": 6,
   "metadata": {},
   "outputs": [
    {
     "name": "stdout",
     "output_type": "stream",
     "text": [
      "WARNING:tensorflow:From D:\\anaconda\\lib\\site-packages\\tensorflow\\python\\framework\\op_def_library.py:263: colocate_with (from tensorflow.python.framework.ops) is deprecated and will be removed in a future version.\n",
      "Instructions for updating:\n",
      "Colocations handled automatically by placer.\n"
     ]
    }
   ],
   "source": [
    "randnorm_model = mnist_model()"
   ]
  },
  {
   "cell_type": "code",
   "execution_count": 7,
   "metadata": {
    "collapsed": true
   },
   "outputs": [],
   "source": [
    "from keras.optimizers import SGD\n",
    "randnorm_model.compile(loss=\"categorical_crossentropy\", optimizer=SGD(lr=0.001), metrics=[\"accuracy\"])"
   ]
  },
  {
   "cell_type": "code",
   "execution_count": 8,
   "metadata": {
    "collapsed": true
   },
   "outputs": [],
   "source": [
    "from keras.callbacks import CSVLogger\n",
    "csv_logger = CSVLogger('randnorm_training.log')"
   ]
  },
  {
   "cell_type": "code",
   "execution_count": 9,
   "metadata": {},
   "outputs": [
    {
     "name": "stdout",
     "output_type": "stream",
     "text": [
      "WARNING:tensorflow:From D:\\anaconda\\lib\\site-packages\\tensorflow\\python\\ops\\math_ops.py:3066: to_int32 (from tensorflow.python.ops.math_ops) is deprecated and will be removed in a future version.\n",
      "Instructions for updating:\n",
      "Use tf.cast instead.\n",
      "Train on 50000 samples, validate on 10000 samples\n",
      "Epoch 1/20\n",
      "50000/50000 [==============================] - 55s 1ms/step - loss: 2.3021 - acc: 0.1125 - val_loss: 2.3012 - val_acc: 0.1140\n",
      "Epoch 2/20\n",
      "50000/50000 [==============================] - 54s 1ms/step - loss: 2.3001 - acc: 0.1187 - val_loss: 2.2997 - val_acc: 0.1113\n",
      "Epoch 3/20\n",
      "50000/50000 [==============================] - 54s 1ms/step - loss: 2.2987 - acc: 0.1159 - val_loss: 2.2984 - val_acc: 0.1077\n",
      "Epoch 4/20\n",
      "50000/50000 [==============================] - 55s 1ms/step - loss: 2.2974 - acc: 0.1146 - val_loss: 2.2970 - val_acc: 0.1075\n",
      "Epoch 5/20\n",
      "50000/50000 [==============================] - 56s 1ms/step - loss: 2.2959 - acc: 0.1148 - val_loss: 2.2954 - val_acc: 0.1080\n",
      "Epoch 6/20\n",
      "50000/50000 [==============================] - 55s 1ms/step - loss: 2.2940 - acc: 0.1154 - val_loss: 2.2933 - val_acc: 0.1099\n",
      "Epoch 7/20\n",
      "50000/50000 [==============================] - 55s 1ms/step - loss: 2.2915 - acc: 0.1196 - val_loss: 2.2905 - val_acc: 0.1132\n",
      "Epoch 8/20\n",
      "50000/50000 [==============================] - 54s 1ms/step - loss: 2.2884 - acc: 0.1257 - val_loss: 2.2868 - val_acc: 0.1226\n",
      "Epoch 9/20\n",
      "50000/50000 [==============================] - 55s 1ms/step - loss: 2.2840 - acc: 0.1444 - val_loss: 2.2816 - val_acc: 0.1531\n",
      "Epoch 10/20\n",
      "50000/50000 [==============================] - 61s 1ms/step - loss: 2.2777 - acc: 0.2031 - val_loss: 2.2739 - val_acc: 0.2523\n",
      "Epoch 11/20\n",
      "50000/50000 [==============================] - 59s 1ms/step - loss: 2.2683 - acc: 0.3301 - val_loss: 2.2621 - val_acc: 0.3887\n",
      "Epoch 12/20\n",
      "50000/50000 [==============================] - 59s 1ms/step - loss: 2.2534 - acc: 0.4205 - val_loss: 2.2428 - val_acc: 0.4613\n",
      "Epoch 13/20\n",
      "50000/50000 [==============================] - 59s 1ms/step - loss: 2.2280 - acc: 0.4764 - val_loss: 2.2087 - val_acc: 0.5012\n",
      "Epoch 14/20\n",
      "50000/50000 [==============================] - 59s 1ms/step - loss: 2.1804 - acc: 0.5148 - val_loss: 2.1411 - val_acc: 0.5491\n",
      "Epoch 15/20\n",
      "50000/50000 [==============================] - 61s 1ms/step - loss: 2.0798 - acc: 0.5593 - val_loss: 1.9911 - val_acc: 0.5967\n",
      "Epoch 16/20\n",
      "50000/50000 [==============================] - 63s 1ms/step - loss: 1.8472 - acc: 0.6139 - val_loss: 1.6445 - val_acc: 0.6419\n",
      "Epoch 17/20\n",
      "50000/50000 [==============================] - 68s 1ms/step - loss: 1.4003 - acc: 0.6730 - val_loss: 1.1216 - val_acc: 0.7338\n",
      "Epoch 18/20\n",
      "50000/50000 [==============================] - 63s 1ms/step - loss: 0.9611 - acc: 0.7486 - val_loss: 0.7791 - val_acc: 0.8015\n",
      "Epoch 19/20\n",
      "50000/50000 [==============================] - 63s 1ms/step - loss: 0.7241 - acc: 0.7987 - val_loss: 0.6103 - val_acc: 0.8358\n",
      "Epoch 20/20\n",
      "50000/50000 [==============================] - 64s 1ms/step - loss: 0.6004 - acc: 0.8312 - val_loss: 0.5179 - val_acc: 0.8620\n"
     ]
    }
   ],
   "source": [
    "history = randnorm_model.fit(X_train, Y_train, validation_data=[X_val, Y_val], batch_size=128, epochs=20, verbose=1, callbacks=[csv_logger])"
   ]
  },
  {
   "cell_type": "code",
   "execution_count": 14,
   "metadata": {},
   "outputs": [
    {
     "name": "stdout",
     "output_type": "stream",
     "text": [
      "10000/10000 [==============================] - 6s 629us/step\n",
      "accuracy: 85.53%\n"
     ]
    }
   ],
   "source": [
    "(loss, accuracy) = randnorm_model.evaluate(X_test, Y_test, batch_size=128, verbose=1)\n",
    "print(\"accuracy: {:.2f}%\".format(accuracy * 100))"
   ]
  },
  {
   "cell_type": "code",
   "execution_count": 15,
   "metadata": {},
   "outputs": [
    {
     "name": "stdout",
     "output_type": "stream",
     "text": [
      "    epoch      acc      loss  val_acc  val_loss\n",
      "0       0  0.11254  2.302100   0.1140  2.301200\n",
      "1       1  0.11866  2.300098   0.1113  2.299659\n",
      "2       2  0.11588  2.298712   0.1077  2.298414\n",
      "3       3  0.11460  2.297389   0.1075  2.297049\n",
      "4       4  0.11476  2.295851   0.1080  2.295393\n",
      "5       5  0.11544  2.293961   0.1099  2.293285\n",
      "6       6  0.11958  2.291544   0.1132  2.290531\n",
      "7       7  0.12568  2.288356   0.1226  2.286815\n",
      "8       8  0.14440  2.283988   0.1531  2.281572\n",
      "9       9  0.20306  2.277709   0.2523  2.273895\n",
      "10     10  0.33014  2.268311   0.3887  2.262095\n",
      "11     11  0.42052  2.253393   0.4613  2.242766\n",
      "12     12  0.47636  2.228023   0.5012  2.208663\n",
      "13     13  0.51482  2.180362   0.5491  2.141118\n",
      "14     14  0.55934  2.079765   0.5967  1.991090\n",
      "15     15  0.61388  1.847200   0.6419  1.644498\n",
      "16     16  0.67302  1.400262   0.7338  1.121611\n",
      "17     17  0.74862  0.961069   0.8015  0.779103\n",
      "18     18  0.79868  0.724082   0.8358  0.610274\n",
      "19     19  0.83120  0.600445   0.8620  0.517888\n"
     ]
    }
   ],
   "source": [
    "import pandas as pd\n",
    "df = pd.read_csv('randnorm_training.log')\n",
    "print(df)"
   ]
  },
  {
   "cell_type": "code",
   "execution_count": null,
   "metadata": {
    "collapsed": true
   },
   "outputs": [],
   "source": []
  }
 ],
 "metadata": {
  "kernelspec": {
   "display_name": "Python 3",
   "language": "python",
   "name": "python3"
  },
  "language_info": {
   "codemirror_mode": {
    "name": "ipython",
    "version": 3
   },
   "file_extension": ".py",
   "mimetype": "text/x-python",
   "name": "python",
   "nbconvert_exporter": "python",
   "pygments_lexer": "ipython3",
   "version": "3.6.3"
  }
 },
 "nbformat": 4,
 "nbformat_minor": 2
}
