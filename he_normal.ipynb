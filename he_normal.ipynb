{
 "cells": [
  {
   "cell_type": "code",
   "execution_count": 1,
   "metadata": {},
   "outputs": [
    {
     "name": "stderr",
     "output_type": "stream",
     "text": [
      "D:\\anaconda\\lib\\site-packages\\numpy\\core\\__init__.py:29: UserWarning: loaded more than 1 DLL from .libs:\n",
      "D:\\anaconda\\lib\\site-packages\\numpy\\.libs\\libopenblas.IPBC74C7KURV7CB2PKT5Z5FNR3SIBV4J.gfortran-win_amd64.dll\n",
      "D:\\anaconda\\lib\\site-packages\\numpy\\.libs\\libopenblas.TXA6YQSD3GCQQC22GEQ54J2UDCXDXHWN.gfortran-win_amd64.dll\n",
      "  stacklevel=1)\n"
     ]
    },
    {
     "name": "stdout",
     "output_type": "stream",
     "text": [
      "... loading data\n"
     ]
    }
   ],
   "source": [
    "import numpy as np \n",
    "from load_data import load_data\n",
    "train, valid, test  = load_data('./mnist.pkl.gz')"
   ]
  },
  {
   "cell_type": "code",
   "execution_count": 2,
   "metadata": {
    "collapsed": true
   },
   "outputs": [],
   "source": [
    "raw_X_train = train[0]\n",
    "raw_y_train = train[1]\n",
    "raw_X_val = valid[0]\n",
    "raw_y_val = valid[1]\n",
    "raw_X_test = test[0]\n",
    "raw_y_test = test[1]"
   ]
  },
  {
   "cell_type": "code",
   "execution_count": 3,
   "metadata": {
    "collapsed": true
   },
   "outputs": [],
   "source": [
    "n_train_samples = raw_X_train.shape[0]\n",
    "n_val_samples = raw_X_val.shape[0]\n",
    "n_test_samples = raw_X_test.shape[0]\n",
    "\n",
    "X_train = raw_X_train.reshape(n_train_samples, 28, 28, 1)\n",
    "X_val = raw_X_val.reshape(n_val_samples, 28, 28, 1)\n",
    "X_test = raw_X_test.reshape(n_test_samples, 28, 28, 1)"
   ]
  },
  {
   "cell_type": "code",
   "execution_count": 4,
   "metadata": {},
   "outputs": [
    {
     "name": "stderr",
     "output_type": "stream",
     "text": [
      "D:\\anaconda\\lib\\site-packages\\h5py\\__init__.py:34: FutureWarning: Conversion of the second argument of issubdtype from `float` to `np.floating` is deprecated. In future, it will be treated as `np.float64 == np.dtype(float).type`.\n",
      "  from ._conv import register_converters as _register_converters\n",
      "Using TensorFlow backend.\n"
     ]
    }
   ],
   "source": [
    "from keras import utils\n",
    "Y_train = utils.to_categorical(raw_y_train, num_classes=10)\n",
    "Y_val = utils.to_categorical(raw_y_val, num_classes=10)\n",
    "Y_test = utils.to_categorical(raw_y_test, num_classes=10)"
   ]
  },
  {
   "cell_type": "code",
   "execution_count": 5,
   "metadata": {
    "collapsed": true
   },
   "outputs": [],
   "source": [
    "from keras import Model\n",
    "from keras import Input\n",
    "from keras.layers import Conv2D\n",
    "from keras.layers import MaxPooling2D\n",
    "from keras.layers import Activation\n",
    "from keras.layers import Flatten\n",
    "from keras.layers import Dense\n",
    "def mnist_model():\n",
    "    X_input = Input(shape=(28, 28, 1), name='input')\n",
    "    \n",
    "    X = Conv2D(6, (5, 5), padding='same', kernel_initializer='he_normal', bias_initializer='zeros')(X_input)\n",
    "    X =Activation('relu')(X)\n",
    "    X= MaxPooling2D(pool_size=(2, 2), strides=(2, 2))(X)\n",
    "    \n",
    "    X = Conv2D(16,(5, 5), padding=\"same\", kernel_initializer='he_normal', bias_initializer='zeros')(X)\n",
    "    X = Activation(\"relu\")(X)\n",
    "    X = MaxPooling2D(pool_size=(2, 2), strides=(2, 2))(X)\n",
    "    \n",
    "    X = Flatten()(X)\n",
    "    X = Dense(120, kernel_initializer='he_normal', bias_initializer='zeros')(X)\n",
    "    X = Activation(\"relu\")(X)\n",
    "    \n",
    "    X = Dense(84, kernel_initializer='he_normal', bias_initializer='zeros')(X)\n",
    "    X = Activation(\"relu\")(X)\n",
    "    \n",
    "    X = Dense(10)(X)\n",
    "    X_output = Activation(\"softmax\")(X)\n",
    "    \n",
    "    model = Model(inputs = X_input, outputs = X_output)\n",
    "    \n",
    "    return model"
   ]
  },
  {
   "cell_type": "code",
   "execution_count": 6,
   "metadata": {},
   "outputs": [
    {
     "name": "stdout",
     "output_type": "stream",
     "text": [
      "WARNING:tensorflow:From D:\\anaconda\\lib\\site-packages\\tensorflow\\python\\framework\\op_def_library.py:263: colocate_with (from tensorflow.python.framework.ops) is deprecated and will be removed in a future version.\n",
      "Instructions for updating:\n",
      "Colocations handled automatically by placer.\n"
     ]
    }
   ],
   "source": [
    "he_model = mnist_model()"
   ]
  },
  {
   "cell_type": "code",
   "execution_count": 7,
   "metadata": {
    "collapsed": true
   },
   "outputs": [],
   "source": [
    "from keras.optimizers import SGD\n",
    "he_model.compile(loss=\"categorical_crossentropy\", optimizer=SGD(lr=0.001), metrics=[\"accuracy\"])"
   ]
  },
  {
   "cell_type": "code",
   "execution_count": 8,
   "metadata": {
    "collapsed": true
   },
   "outputs": [],
   "source": [
    "from keras.callbacks import CSVLogger\n",
    "csv_logger = CSVLogger('he_2_training.log')"
   ]
  },
  {
   "cell_type": "code",
   "execution_count": 9,
   "metadata": {},
   "outputs": [
    {
     "name": "stdout",
     "output_type": "stream",
     "text": [
      "WARNING:tensorflow:From D:\\anaconda\\lib\\site-packages\\tensorflow\\python\\ops\\math_ops.py:3066: to_int32 (from tensorflow.python.ops.math_ops) is deprecated and will be removed in a future version.\n",
      "Instructions for updating:\n",
      "Use tf.cast instead.\n",
      "Train on 50000 samples, validate on 10000 samples\n",
      "Epoch 1/20\n",
      "50000/50000 [==============================] - 61s 1ms/step - loss: 2.0713 - acc: 0.2987 - val_loss: 1.7552 - val_acc: 0.5722\n",
      "Epoch 2/20\n",
      "50000/50000 [==============================] - 75s 1ms/step - loss: 1.4368 - acc: 0.6768 - val_loss: 1.0494 - val_acc: 0.7749\n",
      "Epoch 3/20\n",
      "50000/50000 [==============================] - 71s 1ms/step - loss: 0.8463 - acc: 0.8012 - val_loss: 0.6216 - val_acc: 0.8483\n",
      "Epoch 4/20\n",
      "50000/50000 [==============================] - 59s 1ms/step - loss: 0.5705 - acc: 0.8517 - val_loss: 0.4585 - val_acc: 0.8804\n",
      "Epoch 5/20\n",
      "50000/50000 [==============================] - 57s 1ms/step - loss: 0.4552 - acc: 0.8750 - val_loss: 0.3818 - val_acc: 0.8962\n",
      "Epoch 6/20\n",
      "50000/50000 [==============================] - 58s 1ms/step - loss: 0.3942 - acc: 0.8900 - val_loss: 0.3379 - val_acc: 0.9064\n",
      "Epoch 7/20\n",
      "50000/50000 [==============================] - 59s 1ms/step - loss: 0.3555 - acc: 0.8992 - val_loss: 0.3153 - val_acc: 0.9085\n",
      "Epoch 8/20\n",
      "50000/50000 [==============================] - 56s 1ms/step - loss: 0.3278 - acc: 0.9064 - val_loss: 0.2871 - val_acc: 0.9198\n",
      "Epoch 9/20\n",
      "50000/50000 [==============================] - 57s 1ms/step - loss: 0.3068 - acc: 0.9125 - val_loss: 0.2699 - val_acc: 0.9256\n",
      "Epoch 10/20\n",
      "50000/50000 [==============================] - 57s 1ms/step - loss: 0.2891 - acc: 0.9165 - val_loss: 0.2566 - val_acc: 0.9283\n",
      "Epoch 11/20\n",
      "50000/50000 [==============================] - 57s 1ms/step - loss: 0.2747 - acc: 0.9201 - val_loss: 0.2446 - val_acc: 0.9308\n",
      "Epoch 12/20\n",
      "50000/50000 [==============================] - 68s 1ms/step - loss: 0.2617 - acc: 0.9232 - val_loss: 0.2357 - val_acc: 0.9340\n",
      "Epoch 13/20\n",
      "50000/50000 [==============================] - 63s 1ms/step - loss: 0.2508 - acc: 0.9269 - val_loss: 0.2253 - val_acc: 0.9366\n",
      "Epoch 14/20\n",
      "50000/50000 [==============================] - 63s 1ms/step - loss: 0.2405 - acc: 0.9291 - val_loss: 0.2194 - val_acc: 0.9378\n",
      "Epoch 15/20\n",
      "50000/50000 [==============================] - 63s 1ms/step - loss: 0.2312 - acc: 0.9319 - val_loss: 0.2128 - val_acc: 0.9393\n",
      "Epoch 16/20\n",
      "50000/50000 [==============================] - 62s 1ms/step - loss: 0.2230 - acc: 0.9339 - val_loss: 0.2031 - val_acc: 0.9427\n",
      "Epoch 17/20\n",
      "50000/50000 [==============================] - 64s 1ms/step - loss: 0.2156 - acc: 0.9362 - val_loss: 0.1960 - val_acc: 0.9444\n",
      "Epoch 18/20\n",
      "50000/50000 [==============================] - 62s 1ms/step - loss: 0.2088 - acc: 0.9382 - val_loss: 0.1920 - val_acc: 0.9457\n",
      "Epoch 19/20\n",
      "50000/50000 [==============================] - 63s 1ms/step - loss: 0.2027 - acc: 0.9400 - val_loss: 0.1859 - val_acc: 0.9476\n",
      "Epoch 20/20\n",
      "50000/50000 [==============================] - 61s 1ms/step - loss: 0.1966 - acc: 0.9407 - val_loss: 0.1826 - val_acc: 0.9489\n"
     ]
    }
   ],
   "source": [
    "history = he_model.fit(X_train, Y_train, validation_data=[X_val, Y_val], batch_size=128, epochs=20, verbose=1, callbacks=[csv_logger])"
   ]
  },
  {
   "cell_type": "code",
   "execution_count": 10,
   "metadata": {},
   "outputs": [
    {
     "name": "stdout",
     "output_type": "stream",
     "text": [
      "10000/10000 [==============================] - 6s 579us/step\n",
      "accuracy: 94.87%\n"
     ]
    }
   ],
   "source": [
    "(loss, accuracy) = he_model.evaluate(X_test, Y_test, batch_size=128, verbose=1)\n",
    "print(\"accuracy: {:.2f}%\".format(accuracy * 100))"
   ]
  },
  {
   "cell_type": "code",
   "execution_count": 11,
   "metadata": {},
   "outputs": [
    {
     "name": "stdout",
     "output_type": "stream",
     "text": [
      "    epoch      acc      loss  val_acc  val_loss\n",
      "0       0  0.29868  2.071327   0.5722  1.755184\n",
      "1       1  0.67680  1.436822   0.7749  1.049397\n",
      "2       2  0.80120  0.846293   0.8483  0.621649\n",
      "3       3  0.85168  0.570493   0.8804  0.458493\n",
      "4       4  0.87500  0.455233   0.8962  0.381819\n",
      "5       5  0.89002  0.394170   0.9064  0.337946\n",
      "6       6  0.89922  0.355545   0.9085  0.315264\n",
      "7       7  0.90640  0.327789   0.9198  0.287086\n",
      "8       8  0.91254  0.306760   0.9256  0.269901\n",
      "9       9  0.91654  0.289127   0.9283  0.256593\n",
      "10     10  0.92010  0.274704   0.9308  0.244567\n",
      "11     11  0.92324  0.261713   0.9340  0.235692\n",
      "12     12  0.92692  0.250821   0.9366  0.225262\n",
      "13     13  0.92910  0.240508   0.9378  0.219435\n",
      "14     14  0.93186  0.231221   0.9393  0.212826\n",
      "15     15  0.93394  0.222993   0.9427  0.203149\n",
      "16     16  0.93616  0.215650   0.9444  0.195958\n",
      "17     17  0.93822  0.208849   0.9457  0.191965\n",
      "18     18  0.94002  0.202722   0.9476  0.185919\n",
      "19     19  0.94066  0.196641   0.9489  0.182583\n"
     ]
    }
   ],
   "source": [
    "import pandas as pd\n",
    "df = pd.read_csv('he_2_training.log')\n",
    "print(df)"
   ]
  }
 ],
 "metadata": {
  "kernelspec": {
   "display_name": "Python 3",
   "language": "python",
   "name": "python3"
  },
  "language_info": {
   "codemirror_mode": {
    "name": "ipython",
    "version": 3
   },
   "file_extension": ".py",
   "mimetype": "text/x-python",
   "name": "python",
   "nbconvert_exporter": "python",
   "pygments_lexer": "ipython3",
   "version": "3.6.3"
  }
 },
 "nbformat": 4,
 "nbformat_minor": 2
}
