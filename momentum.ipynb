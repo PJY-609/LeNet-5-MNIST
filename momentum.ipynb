{
 "cells": [
  {
   "cell_type": "code",
   "execution_count": 1,
   "metadata": {},
   "outputs": [
    {
     "name": "stderr",
     "output_type": "stream",
     "text": [
      "D:\\anaconda\\lib\\site-packages\\numpy\\core\\__init__.py:29: UserWarning: loaded more than 1 DLL from .libs:\n",
      "D:\\anaconda\\lib\\site-packages\\numpy\\.libs\\libopenblas.IPBC74C7KURV7CB2PKT5Z5FNR3SIBV4J.gfortran-win_amd64.dll\n",
      "D:\\anaconda\\lib\\site-packages\\numpy\\.libs\\libopenblas.TXA6YQSD3GCQQC22GEQ54J2UDCXDXHWN.gfortran-win_amd64.dll\n",
      "  stacklevel=1)\n"
     ]
    },
    {
     "name": "stdout",
     "output_type": "stream",
     "text": [
      "... loading data\n"
     ]
    }
   ],
   "source": [
    "import numpy as np \n",
    "from load_data import load_data\n",
    "train, valid, test  = load_data('./mnist.pkl.gz')"
   ]
  },
  {
   "cell_type": "code",
   "execution_count": 2,
   "metadata": {
    "collapsed": true
   },
   "outputs": [],
   "source": [
    "raw_X_train = train[0]\n",
    "raw_y_train = train[1]\n",
    "raw_X_val = valid[0]\n",
    "raw_y_val = valid[1]\n",
    "raw_X_test = test[0]\n",
    "raw_y_test = test[1]"
   ]
  },
  {
   "cell_type": "code",
   "execution_count": 3,
   "metadata": {
    "collapsed": true
   },
   "outputs": [],
   "source": [
    "n_train_samples = raw_X_train.shape[0]\n",
    "n_val_samples = raw_X_val.shape[0]\n",
    "n_test_samples = raw_X_test.shape[0]\n",
    "\n",
    "X_train = raw_X_train.reshape(n_train_samples, 28, 28, 1)\n",
    "X_val = raw_X_val.reshape(n_val_samples, 28, 28, 1)\n",
    "X_test = raw_X_test.reshape(n_test_samples, 28, 28, 1)"
   ]
  },
  {
   "cell_type": "code",
   "execution_count": 4,
   "metadata": {},
   "outputs": [
    {
     "name": "stderr",
     "output_type": "stream",
     "text": [
      "D:\\anaconda\\lib\\site-packages\\h5py\\__init__.py:34: FutureWarning: Conversion of the second argument of issubdtype from `float` to `np.floating` is deprecated. In future, it will be treated as `np.float64 == np.dtype(float).type`.\n",
      "  from ._conv import register_converters as _register_converters\n",
      "Using TensorFlow backend.\n"
     ]
    }
   ],
   "source": [
    "from keras import utils\n",
    "Y_train = utils.to_categorical(raw_y_train, num_classes=10)\n",
    "Y_val = utils.to_categorical(raw_y_val, num_classes=10)\n",
    "Y_test = utils.to_categorical(raw_y_test, num_classes=10)"
   ]
  },
  {
   "cell_type": "code",
   "execution_count": 5,
   "metadata": {
    "collapsed": true
   },
   "outputs": [],
   "source": [
    "from keras import Model\n",
    "from keras import Input\n",
    "from keras.layers import Conv2D\n",
    "from keras.layers import MaxPooling2D\n",
    "from keras.layers import Activation\n",
    "from keras.layers import Flatten\n",
    "from keras.layers import Dense\n",
    "def mnist_model():\n",
    "    X_input = Input(shape=(28, 28, 1), name='input')\n",
    "    \n",
    "    X = Conv2D(6, (5, 5), padding='same')(X_input)\n",
    "    X =Activation('relu')(X)\n",
    "    X= MaxPooling2D(pool_size=(2, 2), strides=(2, 2))(X)\n",
    "    \n",
    "    X = Conv2D(16,(5, 5), padding=\"same\")(X)\n",
    "    X = Activation(\"relu\")(X)\n",
    "    X = MaxPooling2D(pool_size=(2, 2), strides=(2, 2))(X)\n",
    "    \n",
    "    X = Flatten()(X)\n",
    "    X = Dense(120)(X)\n",
    "    X = Activation(\"relu\")(X)\n",
    "    \n",
    "    X = Dense(84)(X)\n",
    "    X = Activation(\"relu\")(X)\n",
    "    \n",
    "    X = Dense(10)(X)\n",
    "    X_output = Activation(\"softmax\")(X)\n",
    "    \n",
    "    model = Model(inputs = X_input, outputs = X_output)\n",
    "    \n",
    "    return model"
   ]
  },
  {
   "cell_type": "code",
   "execution_count": 6,
   "metadata": {},
   "outputs": [
    {
     "name": "stdout",
     "output_type": "stream",
     "text": [
      "WARNING:tensorflow:From D:\\anaconda\\lib\\site-packages\\tensorflow\\python\\framework\\op_def_library.py:263: colocate_with (from tensorflow.python.framework.ops) is deprecated and will be removed in a future version.\n",
      "Instructions for updating:\n",
      "Colocations handled automatically by placer.\n"
     ]
    }
   ],
   "source": [
    "momentum_model = mnist_model()"
   ]
  },
  {
   "cell_type": "code",
   "execution_count": 7,
   "metadata": {
    "collapsed": true
   },
   "outputs": [],
   "source": [
    "from keras.optimizers import SGD\n",
    "beta = 0.9\n",
    "optimizer = SGD(lr=0.001, momentum=beta)\n",
    "momentum_model.compile(loss=\"categorical_crossentropy\", optimizer=optimizer, metrics=[\"accuracy\"])"
   ]
  },
  {
   "cell_type": "code",
   "execution_count": 8,
   "metadata": {
    "collapsed": true
   },
   "outputs": [],
   "source": [
    "from keras.callbacks import CSVLogger\n",
    "csv_logger = CSVLogger('momentum_training.log')"
   ]
  },
  {
   "cell_type": "code",
   "execution_count": 9,
   "metadata": {},
   "outputs": [
    {
     "name": "stdout",
     "output_type": "stream",
     "text": [
      "WARNING:tensorflow:From D:\\anaconda\\lib\\site-packages\\tensorflow\\python\\ops\\math_ops.py:3066: to_int32 (from tensorflow.python.ops.math_ops) is deprecated and will be removed in a future version.\n",
      "Instructions for updating:\n",
      "Use tf.cast instead.\n",
      "Train on 50000 samples, validate on 10000 samples\n",
      "Epoch 1/20\n",
      "50000/50000 [==============================] - 63s 1ms/step - loss: 1.6590 - acc: 0.4877 - val_loss: 0.4654 - val_acc: 0.8695\n",
      "Epoch 2/20\n",
      "50000/50000 [==============================] - 76s 2ms/step - loss: 0.3747 - acc: 0.8881 - val_loss: 0.2666 - val_acc: 0.9202\n",
      "Epoch 3/20\n",
      "50000/50000 [==============================] - 79s 2ms/step - loss: 0.2596 - acc: 0.9215 - val_loss: 0.2065 - val_acc: 0.9399\n",
      "Epoch 4/20\n",
      "50000/50000 [==============================] - 74s 1ms/step - loss: 0.2116 - acc: 0.9349 - val_loss: 0.2055 - val_acc: 0.9345\n",
      "Epoch 5/20\n",
      "50000/50000 [==============================] - 82s 2ms/step - loss: 0.1793 - acc: 0.9450 - val_loss: 0.1498 - val_acc: 0.9549\n",
      "Epoch 6/20\n",
      "50000/50000 [==============================] - 60s 1ms/step - loss: 0.1557 - acc: 0.9524 - val_loss: 0.1387 - val_acc: 0.9598\n",
      "Epoch 7/20\n",
      "50000/50000 [==============================] - 93s 2ms/step - loss: 0.1391 - acc: 0.9579 - val_loss: 0.1268 - val_acc: 0.9623\n",
      "Epoch 8/20\n",
      "50000/50000 [==============================] - 70s 1ms/step - loss: 0.1260 - acc: 0.9620 - val_loss: 0.1133 - val_acc: 0.9663\n",
      "Epoch 9/20\n",
      "50000/50000 [==============================] - 72s 1ms/step - loss: 0.1118 - acc: 0.9662 - val_loss: 0.1150 - val_acc: 0.9655\n",
      "Epoch 10/20\n",
      "50000/50000 [==============================] - 57s 1ms/step - loss: 0.1052 - acc: 0.9682 - val_loss: 0.1004 - val_acc: 0.9713\n",
      "Epoch 11/20\n",
      "50000/50000 [==============================] - 62s 1ms/step - loss: 0.0976 - acc: 0.9704 - val_loss: 0.1060 - val_acc: 0.9683\n",
      "Epoch 12/20\n",
      "50000/50000 [==============================] - 54s 1ms/step - loss: 0.0902 - acc: 0.9720 - val_loss: 0.0896 - val_acc: 0.9739\n",
      "Epoch 13/20\n",
      "50000/50000 [==============================] - 51s 1ms/step - loss: 0.0835 - acc: 0.9744 - val_loss: 0.0866 - val_acc: 0.9751\n",
      "Epoch 14/20\n",
      "50000/50000 [==============================] - 50s 1ms/step - loss: 0.0801 - acc: 0.9749 - val_loss: 0.0821 - val_acc: 0.9771\n",
      "Epoch 15/20\n",
      "50000/50000 [==============================] - 53s 1ms/step - loss: 0.0745 - acc: 0.9775 - val_loss: 0.0818 - val_acc: 0.9755\n",
      "Epoch 16/20\n",
      "50000/50000 [==============================] - 53s 1ms/step - loss: 0.0689 - acc: 0.9785 - val_loss: 0.0742 - val_acc: 0.9785\n",
      "Epoch 17/20\n",
      "50000/50000 [==============================] - 52s 1ms/step - loss: 0.0673 - acc: 0.9788 - val_loss: 0.0780 - val_acc: 0.9764\n",
      "Epoch 18/20\n",
      "50000/50000 [==============================] - 53s 1ms/step - loss: 0.0635 - acc: 0.9809 - val_loss: 0.0691 - val_acc: 0.9800\n",
      "Epoch 19/20\n",
      "50000/50000 [==============================] - 57s 1ms/step - loss: 0.0616 - acc: 0.9812 - val_loss: 0.0712 - val_acc: 0.9787\n",
      "Epoch 20/20\n",
      "50000/50000 [==============================] - 57s 1ms/step - loss: 0.0593 - acc: 0.9812 - val_loss: 0.0735 - val_acc: 0.9780\n"
     ]
    }
   ],
   "source": [
    "history = momentum_model.fit(X_train, Y_train, validation_data=[X_val, Y_val], batch_size=128, epochs=20, verbose=1, callbacks=[csv_logger])"
   ]
  },
  {
   "cell_type": "code",
   "execution_count": 10,
   "metadata": {},
   "outputs": [
    {
     "name": "stdout",
     "output_type": "stream",
     "text": [
      "10000/10000 [==============================] - 7s 659us/step\n",
      "accuracy: 97.85%\n"
     ]
    }
   ],
   "source": [
    "(loss, accuracy) = momentum_model.evaluate(X_test, Y_test, batch_size=128, verbose=1)\n",
    "print(\"accuracy: {:.2f}%\".format(accuracy * 100))"
   ]
  },
  {
   "cell_type": "code",
   "execution_count": 11,
   "metadata": {},
   "outputs": [
    {
     "name": "stdout",
     "output_type": "stream",
     "text": [
      "    epoch      acc      loss  val_acc  val_loss\n",
      "0       0  0.48768  1.658996   0.8695  0.465377\n",
      "1       1  0.88808  0.374671   0.9202  0.266605\n",
      "2       2  0.92152  0.259601   0.9399  0.206540\n",
      "3       3  0.93488  0.211610   0.9345  0.205460\n",
      "4       4  0.94500  0.179316   0.9549  0.149838\n",
      "5       5  0.95240  0.155736   0.9598  0.138709\n",
      "6       6  0.95788  0.139051   0.9623  0.126763\n",
      "7       7  0.96200  0.125983   0.9663  0.113319\n",
      "8       8  0.96622  0.111770   0.9655  0.115015\n",
      "9       9  0.96820  0.105242   0.9713  0.100400\n",
      "10     10  0.97036  0.097554   0.9683  0.105987\n",
      "11     11  0.97196  0.090170   0.9739  0.089576\n",
      "12     12  0.97438  0.083455   0.9751  0.086578\n",
      "13     13  0.97486  0.080143   0.9771  0.082123\n",
      "14     14  0.97746  0.074487   0.9755  0.081781\n",
      "15     15  0.97846  0.068910   0.9785  0.074185\n",
      "16     16  0.97880  0.067271   0.9764  0.077964\n",
      "17     17  0.98092  0.063544   0.9800  0.069096\n",
      "18     18  0.98116  0.061624   0.9787  0.071171\n",
      "19     19  0.98118  0.059349   0.9780  0.073513\n"
     ]
    }
   ],
   "source": [
    "import pandas as pd\n",
    "df = pd.read_csv('momentum_training.log')\n",
    "print(df)"
   ]
  },
  {
   "cell_type": "code",
   "execution_count": null,
   "metadata": {
    "collapsed": true
   },
   "outputs": [],
   "source": []
  }
 ],
 "metadata": {
  "kernelspec": {
   "display_name": "Python 3",
   "language": "python",
   "name": "python3"
  },
  "language_info": {
   "codemirror_mode": {
    "name": "ipython",
    "version": 3
   },
   "file_extension": ".py",
   "mimetype": "text/x-python",
   "name": "python",
   "nbconvert_exporter": "python",
   "pygments_lexer": "ipython3",
   "version": "3.6.3"
  }
 },
 "nbformat": 4,
 "nbformat_minor": 2
}
